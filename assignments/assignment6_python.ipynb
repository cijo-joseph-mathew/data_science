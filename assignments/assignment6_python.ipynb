{
 "cells": [
  {
   "cell_type": "code",
   "execution_count": 6,
   "id": "ef5b72cd",
   "metadata": {},
   "outputs": [
    {
     "name": "stdout",
     "output_type": "stream",
     "text": [
      "20\n",
      "18\n"
     ]
    }
   ],
   "source": [
    "class rectangle:\n",
    "    def __init__(self,l,b):\n",
    "        self.l=l\n",
    "        self.b=b\n",
    "    def area(self):\n",
    "        return self.l*self.b\n",
    "    def perimeter(self):\n",
    "        return 2*(self.l+self.b)\n",
    "l=int(input('enter the length'))\n",
    "b=int(input('enter the breadth'))\n",
    "r=rectangle(l,b)\n",
    "print(r.area())\n",
    "print(r.perimeter())\n",
    "    \n",
    "        "
   ]
  },
  {
   "cell_type": "code",
   "execution_count": null,
   "id": "137d7d7b",
   "metadata": {},
   "outputs": [],
   "source": [
    "class calculator:\n",
    "    def __init__(self,a,b):\n",
    "        self.a=a\n",
    "        self.b=b\n",
    "    def add1(self):\n",
    "        return self.a+self.b\n",
    "    def sub(self):\n",
    "        return self.a-self.b\n",
    "    def mul(self):\n",
    "        return self.a*self.b\n",
    "    def div(self):\n",
    "        return self.a/self.b\n",
    "a=int(input('enter the first number'))\n",
    "b=int(input('enter the second number'))\n",
    "choice=int(input('enter your choice : 1-add,2-substract,3-multiplication,4-division'))\n",
    "calc=calculator(a,b)\n",
    "if choice==1:\n",
    "    print(calc.add1())\n",
    "if choice==2:\n",
    "    print(calc.sub())\n",
    "if choice==3:\n",
    "    print(calc.mul())\n",
    "if choice==4:\n",
    "    print(calc.div())"
   ]
  },
  {
   "cell_type": "code",
   "execution_count": null,
   "id": "c9df0836",
   "metadata": {},
   "outputs": [
    {
     "ename": "AttributeError",
     "evalue": "'circle' object has no attribute 'circle'",
     "output_type": "error",
     "traceback": [
      "\u001b[31m---------------------------------------------------------------------------\u001b[39m",
      "\u001b[31mAttributeError\u001b[39m                            Traceback (most recent call last)",
      "\u001b[36mCell\u001b[39m\u001b[36m \u001b[39m\u001b[32mIn[8]\u001b[39m\u001b[32m, line 10\u001b[39m\n\u001b[32m      8\u001b[39m r=\u001b[38;5;28mint\u001b[39m(\u001b[38;5;28minput\u001b[39m(\u001b[33m'\u001b[39m\u001b[33menter the radius\u001b[39m\u001b[33m'\u001b[39m))\n\u001b[32m      9\u001b[39m radius=circle(r)\n\u001b[32m---> \u001b[39m\u001b[32m10\u001b[39m \u001b[43mradius\u001b[49m\u001b[43m.\u001b[49m\u001b[43mcircle\u001b[49m(r)\n",
      "\u001b[31mAttributeError\u001b[39m: 'circle' object has no attribute 'circle'"
     ]
    }
   ],
   "source": [
    "class circle:\n",
    "    def __init__(self,r):\n",
    "        self.r=r\n",
    "    def area(self):\n",
    "        return 3.14*r**2\n",
    "    def circum(self):\n",
    "        return 2*3.14*r\n",
    "r=int(input('enter the radius'))\n",
    "radius=circle(r)\n",
    "radius.circle()\n",
    "\n",
    "        "
   ]
  },
  {
   "cell_type": "code",
   "execution_count": null,
   "id": "7c01946b",
   "metadata": {},
   "outputs": [],
   "source": []
  }
 ],
 "metadata": {
  "kernelspec": {
   "display_name": "Python 3",
   "language": "python",
   "name": "python3"
  },
  "language_info": {
   "codemirror_mode": {
    "name": "ipython",
    "version": 3
   },
   "file_extension": ".py",
   "mimetype": "text/x-python",
   "name": "python",
   "nbconvert_exporter": "python",
   "pygments_lexer": "ipython3",
   "version": "3.11.9"
  }
 },
 "nbformat": 4,
 "nbformat_minor": 5
}
