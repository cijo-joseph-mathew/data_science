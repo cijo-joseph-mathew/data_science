{
 "cells": [
  {
   "cell_type": "code",
   "execution_count": 6,
   "id": "ef5b72cd",
   "metadata": {},
   "outputs": [
    {
     "name": "stdout",
     "output_type": "stream",
     "text": [
      "20\n",
      "18\n"
     ]
    }
   ],
   "source": [
    "class rectangle:\n",
    "    def __init__(self,l,b):\n",
    "        self.l=l\n",
    "        self.b=b\n",
    "    def area(self):\n",
    "        return self.l*self.b\n",
    "    def perimeter(self):\n",
    "        return 2*(self.l+self.b)\n",
    "l=int(input('enter the length'))\n",
    "b=int(input('enter the breadth'))\n",
    "r=rectangle(l,b)\n",
    "print(r.area())\n",
    "print(r.perimeter())\n",
    "    \n",
    "        "
   ]
  },
  {
   "cell_type": "code",
   "execution_count": null,
   "id": "137d7d7b",
   "metadata": {},
   "outputs": [],
   "source": [
    "class calculator:\n",
    "    def __init__(self,a,b):\n",
    "        self.a=a\n",
    "        self.b=b\n",
    "    def add1(self):\n",
    "        return self.a+self.b\n",
    "    def sub(self):\n",
    "        return self.a-self.b\n",
    "    def mul(self):\n",
    "        return self.a*self.b\n",
    "    def div(self):\n",
    "        return self.a/self.b\n",
    "a=int(input('enter the first number'))\n",
    "b=int(input('enter the second number'))\n",
    "choice=int(input('enter your choice : 1-add,2-substract,3-multiplication,4-division'))\n",
    "calc=calculator(a,b)\n",
    "if choice==1:\n",
    "    print(calc.add1())\n",
    "if choice==2:\n",
    "    print(calc.sub())\n",
    "if choice==3:\n",
    "    print(calc.mul())\n",
    "if choice==4:\n",
    "    print(calc.div())"
   ]
  },
  {
   "cell_type": "code",
   "execution_count": null,
   "id": "753d2525",
   "metadata": {},
   "outputs": [],
   "source": []
  },
  {
   "cell_type": "code",
   "execution_count": 6,
   "id": "c9df0836",
   "metadata": {},
   "outputs": [
    {
     "name": "stdout",
     "output_type": "stream",
     "text": [
      "area is  50.24\n",
      "circumference is  25.12\n"
     ]
    }
   ],
   "source": [
    "class circle:\n",
    "    def __init__(self,r):\n",
    "        self.r=r\n",
    "    def area(self):\n",
    "        return 3.14*self.r **2\n",
    "    def circum(self):\n",
    "        return 2*3.14*self.r\n",
    "r=int(input('enter the radius'))\n",
    "radius=circle(r)\n",
    "print('area is ' ,radius.area())\n",
    "print('circumference is ' ,radius.circum())\n",
    "\n",
    "        "
   ]
  },
  {
   "cell_type": "code",
   "execution_count": 7,
   "id": "7c01946b",
   "metadata": {},
   "outputs": [
    {
     "data": {
      "text/plain": [
       "('cijo', 100000)"
      ]
     },
     "execution_count": 7,
     "metadata": {},
     "output_type": "execute_result"
    }
   ],
   "source": [
    "class employee:\n",
    "    def __init__(self,name,sal):\n",
    "        self.name=name\n",
    "        self.sal=sal\n",
    "    def display(self):\n",
    "        return self.name, self.sal \n",
    "name=input('enter the employee name')\n",
    "sal=int(input('enter the salary'))\n",
    "emp=employee(name,sal)\n",
    "emp.display()\n",
    "\n",
    "              "
   ]
  },
  {
   "cell_type": "code",
   "execution_count": null,
   "id": "a57cd1be",
   "metadata": {},
   "outputs": [],
   "source": [
    "class BankAccount:\n",
    "    def __init__(self, account_number, balance):\n",
    "        self.account_number = account_number\n",
    "        self.balance = balance\n",
    "\n",
    "    def deposit(self, amount):\n",
    "        self.balance += amount\n",
    "        print(f\"Amount deposited: {amount}\")\n",
    "        print(f\"New balance: {self.balance}\")\n",
    "\n",
    "    def withdraw(self, amount):\n",
    "        if amount <= self.balance:\n",
    "            self.balance -= amount\n",
    "            print(f\"Amount withdrawn: {amount}\")\n",
    "            print(f\"New balance: {self.balance}\")\n",
    "        else:\n",
    "            print(\"Not enough balance to withdraw.\")\n",
    "\n",
    "    def check_balance(self):\n",
    "        print(f\"Current balance: {self.balance}\")\n",
    "\n",
    "\n",
    "acc_number = input(\"Enter your account number: \")\n",
    "initial_balance = float(input(\"Enter initial balance: \"))\n",
    "account = BankAccount(acc_number, initial_balance)\n",
    "\n",
    "while True:\n",
    "    print(\"\\nSelect an operation:\")\n",
    "    print(\"1. Deposit\")\n",
    "    print(\"2. Withdraw\")\n",
    "    print(\"3. Check Balance\")\n",
    "    print(\"4. Exit\")\n",
    "\n",
    "    choice = input(\"Enter your choice (1-4): \")\n",
    "\n",
    "    if choice == \"1\":\n",
    "        amount = float(input(\"Enter amount to deposit: \"))\n",
    "        account.deposit(amount)\n",
    "    elif choice == \"2\":\n",
    "        amount = float(input(\"Enter amount to withdraw: \"))\n",
    "        account.withdraw(amount)\n",
    "    elif choice == \"3\":\n",
    "        account.check_balance()\n",
    "    elif choice == \"4\":\n",
    "        print(\"Exiting... Thank you!\")\n",
    "        break\n",
    "    else:\n",
    "        print(\"Invalid choice. Please enter 1, 2, 3, or 4.\")"
   ]
  },
  {
   "cell_type": "code",
   "execution_count": null,
   "id": "5d65e076",
   "metadata": {},
   "outputs": [],
   "source": [
    "class Temperature:\n",
    "    def celsius_to_fahrenheit(self, c):\n",
    "        f = (c * 9/5) + 32\n",
    "        return f\n",
    "\n",
    "    def fahrenheit_to_celsius(self, f):\n",
    "        c = (f - 32) * 5/9\n",
    "        return c\n",
    "\n",
    "\n",
    "temp = Temperature()\n",
    "\n",
    "c = float(input(\"Enter temperature in Celsius: \"))\n",
    "print(\"Fahrenheit:\", temp.celsius_to_fahrenheit(c))\n",
    "\n",
    "f = float(input(\"Enter temperature in Fahrenheit: \"))\n",
    "print(\"Celsius:\", temp.fahrenheit_to_celsius(f))"
   ]
  },
  {
   "cell_type": "code",
   "execution_count": null,
   "id": "242d04f2",
   "metadata": {},
   "outputs": [],
   "source": [
    "class Cart:\n",
    "    def __init__(self):\n",
    "        self.items = []\n",
    "\n",
    "    def add_item(self, item):\n",
    "        self.items.append(item)\n",
    "        print(f\"{item} added to cart.\")\n",
    "\n",
    "    def remove_item(self, item):\n",
    "        if item in self.items:\n",
    "            self.items.remove(item)\n",
    "            print(f\"{item} removed from cart.\")\n",
    "        else:\n",
    "            print(f\"{item} not found in cart.\")\n",
    "\n",
    "    def view_cart(self):\n",
    "        if not self.items:\n",
    "            print(\"Your cart is empty.\")\n",
    "        else:\n",
    "            print(\"Items in your cart:\")\n",
    "            for item in self.items:\n",
    "                print(\"-\", item)\n",
    "\n",
    "\n",
    "cart = Cart()\n",
    "\n",
    "while True:\n",
    "    print(\"\\nSelect an option:\")\n",
    "    print(\"1. Add item\")\n",
    "    print(\"2. Remove item\")\n",
    "    print(\"3. View cart\")\n",
    "    print(\"4. Exit\")\n",
    "\n",
    "    choice = input(\"Enter your choice (1-4): \")\n",
    "\n",
    "    if choice == \"1\":\n",
    "        item = input(\"Enter item to add: \")\n",
    "        cart.add_item(item)\n",
    "    elif choice == \"2\":\n",
    "        item = input(\"Enter item to remove: \")\n",
    "        cart.remove_item(item)\n",
    "    elif choice == \"3\":\n",
    "        cart.view_cart()\n",
    "    elif choice == \"4\":\n",
    "        print(\"Thank you for shopping!\")\n",
    "        break\n",
    "    else:\n",
    "        print(\"Invalid choice.\")"
   ]
  }
 ],
 "metadata": {
  "kernelspec": {
   "display_name": "Python 3",
   "language": "python",
   "name": "python3"
  },
  "language_info": {
   "codemirror_mode": {
    "name": "ipython",
    "version": 3
   },
   "file_extension": ".py",
   "mimetype": "text/x-python",
   "name": "python",
   "nbconvert_exporter": "python",
   "pygments_lexer": "ipython3",
   "version": "3.11.9"
  }
 },
 "nbformat": 4,
 "nbformat_minor": 5
}
