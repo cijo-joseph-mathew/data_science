{
 "cells": [
  {
   "cell_type": "code",
   "execution_count": 22,
   "id": "1abc8fa6",
   "metadata": {},
   "outputs": [
    {
     "name": "stdout",
     "output_type": "stream",
     "text": [
      "(4,) 1\n",
      "(2, 3) 2\n",
      "(3, 2, 3) 3\n"
     ]
    }
   ],
   "source": [
    "import numpy as np\n",
    "a=np.array([1,2,3,4])\n",
    "b=np.array([[1,2,3],[4,5,6]])\n",
    "c=np.array([[[1,2,3],[4,5,6]],[[3,2,1],[6,5,4]],[[7,8,9],[9,8,7]]])\n",
    "print(a.shape,a.ndim)\n",
    "print(b.shape,b.ndim)\n",
    "print(c.shape,c.ndim)\n"
   ]
  },
  {
   "cell_type": "code",
   "execution_count": 23,
   "id": "6409e816",
   "metadata": {},
   "outputs": [
    {
     "data": {
      "text/plain": [
       "array([10, 15, 20, 25, 30, 35, 40, 45, 50])"
      ]
     },
     "execution_count": 23,
     "metadata": {},
     "output_type": "execute_result"
    }
   ],
   "source": [
    "np.arange(10,51,5)"
   ]
  },
  {
   "cell_type": "code",
   "execution_count": 24,
   "id": "cfde879c",
   "metadata": {},
   "outputs": [
    {
     "data": {
      "text/plain": [
       "array([[12, 14, 20],\n",
       "       [ 3,  6,  8],\n",
       "       [19,  5,  6]])"
      ]
     },
     "execution_count": 24,
     "metadata": {},
     "output_type": "execute_result"
    }
   ],
   "source": [
    "rm=np.random.choice(np.arange(1, 21), size=(3, 3))\n",
    "rm"
   ]
  },
  {
   "cell_type": "code",
   "execution_count": 25,
   "id": "b7b7cd06",
   "metadata": {},
   "outputs": [
    {
     "name": "stdout",
     "output_type": "stream",
     "text": [
      "[3 6 8]\n"
     ]
    }
   ],
   "source": [
    "print(rm[1,:])"
   ]
  },
  {
   "cell_type": "code",
   "execution_count": 26,
   "id": "2135e8ed",
   "metadata": {},
   "outputs": [
    {
     "name": "stdout",
     "output_type": "stream",
     "text": [
      "[14  6  5]\n"
     ]
    }
   ],
   "source": [
    "print(rm[:,1])"
   ]
  },
  {
   "cell_type": "code",
   "execution_count": 27,
   "id": "a00a00e8",
   "metadata": {},
   "outputs": [
    {
     "data": {
      "text/plain": [
       "array([[14, 20],\n",
       "       [ 6,  8]])"
      ]
     },
     "execution_count": 27,
     "metadata": {},
     "output_type": "execute_result"
    }
   ],
   "source": [
    "subarray = rm[0:2, 1:4]\n",
    "subarray"
   ]
  },
  {
   "cell_type": "code",
   "execution_count": 28,
   "id": "c95b3763",
   "metadata": {},
   "outputs": [
    {
     "data": {
      "text/plain": [
       "array([[-1, -1, -1],\n",
       "       [ 3, -1, -1],\n",
       "       [19,  5, -1]])"
      ]
     },
     "execution_count": 28,
     "metadata": {},
     "output_type": "execute_result"
    }
   ],
   "source": [
    "rm[rm%2==0]=-1\n",
    "rm"
   ]
  },
  {
   "cell_type": "code",
   "execution_count": 29,
   "id": "38c9c4e3",
   "metadata": {},
   "outputs": [
    {
     "name": "stdout",
     "output_type": "stream",
     "text": [
      "[5 7 9]\n",
      "[-3 -3 -3]\n",
      "[ 4 10 18]\n",
      "[0.25 0.4  0.5 ]\n"
     ]
    }
   ],
   "source": [
    "a = np.array([1, 2, 3])\n",
    "b = np.array([4, 5, 6])\n",
    "print(a+b)\n",
    "print(a-b)\n",
    "print(a*b)\n",
    "print(a/b)"
   ]
  },
  {
   "cell_type": "code",
   "execution_count": 31,
   "id": "e8b73001",
   "metadata": {},
   "outputs": [
    {
     "data": {
      "text/plain": [
       "array([[ 1,  2,  3,  4],\n",
       "       [ 5,  6,  7,  8],\n",
       "       [ 9, 10, 11, 12]])"
      ]
     },
     "execution_count": 31,
     "metadata": {},
     "output_type": "execute_result"
    }
   ],
   "source": [
    "m=np.array([1,2,3,4,5,6,7,8,9,10,11,12])\n",
    "m.reshape(3,4)"
   ]
  },
  {
   "cell_type": "code",
   "execution_count": null,
   "id": "74732e5b",
   "metadata": {},
   "outputs": [],
   "source": []
  }
 ],
 "metadata": {
  "kernelspec": {
   "display_name": "Python 3",
   "language": "python",
   "name": "python3"
  },
  "language_info": {
   "codemirror_mode": {
    "name": "ipython",
    "version": 3
   },
   "file_extension": ".py",
   "mimetype": "text/x-python",
   "name": "python",
   "nbconvert_exporter": "python",
   "pygments_lexer": "ipython3",
   "version": "3.11.9"
  }
 },
 "nbformat": 4,
 "nbformat_minor": 5
}
