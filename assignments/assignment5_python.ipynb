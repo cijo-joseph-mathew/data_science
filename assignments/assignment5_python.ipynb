{
 "cells": [
  {
   "cell_type": "code",
   "execution_count": 1,
   "id": "1399cb7b",
   "metadata": {},
   "outputs": [
    {
     "name": "stdout",
     "output_type": "stream",
     "text": [
      "153 is an Armstrong number.\n"
     ]
    }
   ],
   "source": [
    "def check(n):\n",
    "    temp = n\n",
    "    result = 0\n",
    "    while n > 0:\n",
    "        digit = n % 10\n",
    "        result += digit ** len(str(temp))\n",
    "        n //= 10\n",
    "    if result == temp:\n",
    "        print(temp, \"is an Armstrong number.\")\n",
    "    else:\n",
    "        print(temp, \"is not an Armstrong number.\")\n",
    "n=int(input('enter a number'))\n",
    "check(n)"
   ]
  },
  {
   "cell_type": "code",
   "execution_count": 4,
   "id": "03f1286e",
   "metadata": {},
   "outputs": [
    {
     "name": "stdout",
     "output_type": "stream",
     "text": [
      "c appears 1 times\n"
     ]
    }
   ],
   "source": [
    "def count_char(s, ch):\n",
    "    print(ch, \"appears\", s.count(ch), \"times\")\n",
    "\n",
    "text = input(\"Enter a string: \")\n",
    "char = input(\"Enter a character: \")\n",
    "\n",
    "count_char(text, char)"
   ]
  },
  {
   "cell_type": "code",
   "execution_count": 6,
   "id": "34662099",
   "metadata": {},
   "outputs": [
    {
     "name": "stdout",
     "output_type": "stream",
     "text": [
      "5 7 \n"
     ]
    }
   ],
   "source": [
    "def is_prime(num):\n",
    "    if num <= 1:\n",
    "        return False\n",
    "    for i in range(2, num):\n",
    "        if num % i == 0:\n",
    "            return False\n",
    "    return True\n",
    "\n",
    "def find_primes_between(start, end):\n",
    "    for number in range(start, end + 1):\n",
    "        if is_prime(number):\n",
    "            print(number, end=' ')\n",
    "    print()\n",
    "\n",
    "start_num = int(input(\"Enter the start number: \"))\n",
    "end_num = int(input(\"Enter the end number: \"))\n",
    "\n",
    "find_primes_between(start_num, end_num)"
   ]
  },
  {
   "cell_type": "code",
   "execution_count": 7,
   "id": "90ba14e7",
   "metadata": {},
   "outputs": [
    {
     "name": "stdout",
     "output_type": "stream",
     "text": [
      "GCD of 1 and 5 is 1\n"
     ]
    }
   ],
   "source": [
    "def gcd(a, b):\n",
    "    while b != 0:\n",
    "        a, b = b, a % b\n",
    "    return a\n",
    "\n",
    "num1 = int(input(\"Enter first number: \"))\n",
    "num2 = int(input(\"Enter second number: \"))\n",
    "\n",
    "result = gcd(num1, num2)\n",
    "print(\"GCD of\", num1, \"and\", num2, \"is\", result)"
   ]
  },
  {
   "cell_type": "code",
   "execution_count": 1,
   "id": "ad0e824e",
   "metadata": {},
   "outputs": [
    {
     "name": "stdout",
     "output_type": "stream",
     "text": [
      "LCM of 6 and 4 is 12\n"
     ]
    }
   ],
   "source": [
    "def lcm(a, b):\n",
    "    multiple = max(a, b)\n",
    "    step = multiple\n",
    "    while multiple % a != 0 or multiple % b != 0:\n",
    "        multiple += step\n",
    "    return multiple\n",
    "\n",
    "num1 = int(input(\"Enter first number: \"))\n",
    "num2 = int(input(\"Enter second number: \"))\n",
    "\n",
    "result = lcm(num1, num2)\n",
    "print(f\"LCM of {num1} and {num2} is {result}\")"
   ]
  },
  {
   "cell_type": "code",
   "execution_count": 2,
   "id": "3a12ee84",
   "metadata": {},
   "outputs": [
    {
     "name": "stdout",
     "output_type": "stream",
     "text": [
      "Binary representation: 10\n"
     ]
    }
   ],
   "source": [
    "def to_binary(n):\n",
    "    if n == 0:\n",
    "        return \"0\"\n",
    "    binary = \"\"\n",
    "    while n > 0:\n",
    "        binary = str(n % 2) + binary\n",
    "        n = n // 2\n",
    "    return binary\n",
    "\n",
    "num = int(input(\"Enter a number: \"))\n",
    "print(\"Binary representation:\", to_binary(num))"
   ]
  },
  {
   "cell_type": "code",
   "execution_count": null,
   "id": "7516a9c5",
   "metadata": {},
   "outputs": [],
   "source": []
  },
  {
   "cell_type": "code",
   "execution_count": null,
   "id": "9c40c024",
   "metadata": {},
   "outputs": [],
   "source": [
    "def to_binary(n):\n",
    "    if n == 0:\n",
    "        return \"0\"\n",
    "    binary = \"\"\n",
    "    while n > 0:\n",
    "        binary = str(n % 2) + binary\n",
    "        n = n // 2\n",
    "    return binary\n",
    "\n",
    "num = int(input(\"Enter a number: \"))\n",
    "print(\"Binary representation:\", to_binary(num))"
   ]
  },
  {
   "cell_type": "code",
   "execution_count": null,
   "id": "bd26b2c9",
   "metadata": {},
   "outputs": [
    {
     "name": "stdout",
     "output_type": "stream",
     "text": [
      "   *\n",
      "  ***\n",
      " *****\n",
      "*******\n"
     ]
    }
   ],
   "source": [
    "def print_pyramid(rows):\n",
    "    for i in range(1, rows + 1):\n",
    "        print(' ' * (rows - i), end='')\n",
    "        print('*' * (2 * i - 1))\n",
    "\n",
    "n = int(input(\"Enter number of rows: \"))\n",
    "print_pyramid(n)"
   ]
  },
  {
   "cell_type": "code",
   "execution_count": null,
   "id": "af2318eb",
   "metadata": {},
   "outputs": [],
   "source": [
    "def all_substrings(s):\n",
    "    substrings = []\n",
    "    length = len(s)\n",
    "    for start in range(length):\n",
    "        for end in range(start + 1, length + 1):\n",
    "            substrings.append(s[start:end])\n",
    "    return substrings\n",
    "\n",
    "text = input(\"Enter a string: \")\n",
    "subs = all_substrings(text)\n",
    "\n",
    "for sub in subs:\n",
    "    print(sub)"
   ]
  },
  {
   "cell_type": "code",
   "execution_count": null,
   "id": "a107edd5",
   "metadata": {},
   "outputs": [],
   "source": [
    "def is_perfect_number(n):\n",
    "    total = 0\n",
    "    for i in range(1, n):\n",
    "        if n % i == 0:\n",
    "            total += i\n",
    "    return total == n\n",
    "\n",
    "num = int(input(\"Enter a number: \"))\n",
    "if is_perfect_number(num):\n",
    "    print(num, \"is a perfect number.\")\n",
    "else:\n",
    "    print(num, \"is not a perfect number.\")"
   ]
  },
  {
   "cell_type": "code",
   "execution_count": null,
   "id": "8258f24e",
   "metadata": {},
   "outputs": [],
   "source": [
    "def digit_frequency(num):\n",
    "    freq = [0] * 10\n",
    "    for digit in str(num):\n",
    "        freq[int(digit)] += 1\n",
    "    for i in range(10):\n",
    "        if freq[i] > 0:\n",
    "            print(\"Digit\", i, \"appears\", freq[i], \"times\")\n",
    "\n",
    "number = input(\"Enter a number: \")\n",
    "digit_frequency(number)"
   ]
  },
  {
   "cell_type": "code",
   "execution_count": null,
   "id": "c2e78a1d",
   "metadata": {},
   "outputs": [],
   "source": [
    "def second_largest(numbers):\n",
    "    numbers = list(set(numbers))  \n",
    "    numbers.sort()\n",
    "    if len(numbers) < 2:\n",
    "        return None\n",
    "    return numbers[-2]\n",
    "\n",
    "nums = [4, 7, 2, 9, 7, 5, 9]\n",
    "result = second_largest(nums)\n",
    "if result is None:\n",
    "    print(\"No second largest number found.\")\n",
    "else:\n",
    "    print(\"Second largest number is:\", result)\n",
    "\n",
    "\n",
    "\n"
   ]
  }
 ],
 "metadata": {
  "kernelspec": {
   "display_name": "Python 3",
   "language": "python",
   "name": "python3"
  },
  "language_info": {
   "codemirror_mode": {
    "name": "ipython",
    "version": 3
   },
   "file_extension": ".py",
   "mimetype": "text/x-python",
   "name": "python",
   "nbconvert_exporter": "python",
   "pygments_lexer": "ipython3",
   "version": "3.11.9"
  }
 },
 "nbformat": 4,
 "nbformat_minor": 5
}
