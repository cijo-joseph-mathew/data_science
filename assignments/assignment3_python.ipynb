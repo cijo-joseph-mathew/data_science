{
 "cells": [
  {
   "cell_type": "code",
   "execution_count": null,
   "id": "0ee7b2aa",
   "metadata": {},
   "outputs": [],
   "source": [
    "# Shallow Copy:\n",
    "# A shallow copy creates a new compound object but does not recursively create copies of nested objects within it.\n",
    "#  Instead, it inserts references to the original nested objects into the new compound object.\n",
    "# This means that if a mutable nested object (like a list or dictionary) is modified in either the original or the shallow copy, \n",
    "# the changes will be reflected in both, as they share the same underlying nested object.\n",
    "# Shallow copies are typically faster and use less memory than deep copies, as they only copy references for nested structures.\n",
    "# You can create a shallow copy using methods like list.copy(), dict.copy(), or copy.copy() from the copy module.\n",
    "\n",
    "\n",
    "# Deep Copy:\n",
    "# A deep copy creates a completely independent new compound object by recursively creating copies of all nested objects within it.\n",
    "# This ensures that any modifications made to nested objects in the deep copy will not affect the original object, and vice versa, \n",
    "# because they are entirely separate entities in memory.\n",
    "# Deep copies are more resource-intensive (slower and use more memory) than shallow copies, \n",
    "# especially for large and deeply nested structures, due to the recursive copying process.\n",
    "# You create a deep copy using copy.deepcopy() from the copy module."
   ]
  },
  {
   "cell_type": "code",
   "execution_count": 20,
   "id": "8064da1f",
   "metadata": {},
   "outputs": [
    {
     "name": "stdout",
     "output_type": "stream",
     "text": [
      "[1, 3, 5, 33, 55, 667]\n"
     ]
    }
   ],
   "source": [
    "#2\n",
    "l1=[1,2,3,4,5,33,55,667,234]\n",
    "odd=[]\n",
    "for i in l1[:]:\n",
    "    if i%2!=0:\n",
    "        odd.append(i)\n",
    "print(odd)\n",
    "        \n",
    "      \n",
    "\n"
   ]
  },
  {
   "cell_type": "code",
   "execution_count": 23,
   "id": "e1692061",
   "metadata": {},
   "outputs": [
    {
     "name": "stdout",
     "output_type": "stream",
     "text": [
      "['apple', 'orange', 'moon']\n"
     ]
    }
   ],
   "source": [
    "#4\n",
    "string=[\"apple\", \"cat\", \"sun\", \"orange\", \"dog\", \"moon\"]\n",
    "\n",
    "result=[]\n",
    "for i in string:\n",
    "    if len(i)>3:\n",
    "        result.append(i)\n",
    "\n",
    "print(result)"
   ]
  },
  {
   "cell_type": "code",
   "execution_count": 24,
   "id": "7ec3e7fd",
   "metadata": {},
   "outputs": [
    {
     "name": "stdout",
     "output_type": "stream",
     "text": [
      "Lists have at least one common element.\n"
     ]
    }
   ],
   "source": [
    "#5\n",
    "list1=[1, 2, 3, 4, 5]\n",
    "list2=[5, 6, 7, 8, 9]\n",
    "\n",
    "common_found=0  \n",
    "for item1 in list1:\n",
    "    for item2 in list2:\n",
    "        if item1==item2:\n",
    "            common_found=1\n",
    "            break\n",
    "    if common_found==1:\n",
    "        break\n",
    "\n",
    "if common_found==1:\n",
    "    print(\"Lists have at least one common element.\")\n",
    "else:\n",
    "    print(\"Lists do not have any common elements.\")"
   ]
  },
  {
   "cell_type": "code",
   "execution_count": 28,
   "id": "9b4dfa81",
   "metadata": {},
   "outputs": [
    {
     "name": "stdout",
     "output_type": "stream",
     "text": [
      "1\n",
      "9\n",
      "25\n"
     ]
    }
   ],
   "source": [
    "#6\n",
    "l1=[1,2,3,4,5,6]\n",
    "for i in l1:\n",
    "    if i%2!=0:   \n",
    "        print(i*i)"
   ]
  }
 ],
 "metadata": {
  "kernelspec": {
   "display_name": "Python 3",
   "language": "python",
   "name": "python3"
  },
  "language_info": {
   "codemirror_mode": {
    "name": "ipython",
    "version": 3
   },
   "file_extension": ".py",
   "mimetype": "text/x-python",
   "name": "python",
   "nbconvert_exporter": "python",
   "pygments_lexer": "ipython3",
   "version": "3.11.9"
  }
 },
 "nbformat": 4,
 "nbformat_minor": 5
}
