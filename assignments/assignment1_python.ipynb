{
 "cells": [
  {
   "cell_type": "code",
   "execution_count": null,
   "id": "48b91857",
   "metadata": {},
   "outputs": [],
   "source": [
    "# 1.\n",
    "l=int(input('enter length'))\n",
    "b=int(input('enter breadth'))\n",
    "if l==b:\n",
    "    print('square')\n",
    "else:\n",
    "    print('not square')    "
   ]
  },
  {
   "cell_type": "code",
   "execution_count": null,
   "id": "a82e9504",
   "metadata": {},
   "outputs": [],
   "source": [
    "# 2\n",
    "yr=int(input('enter the years of service'))\n",
    "slry=int(input('enter the salary'))\n",
    "if yr>5:\n",
    "    bonus=slry*5/100\n",
    "    print('bonus is ',bonus)\n",
    "else:\n",
    "    print('no bonus')"
   ]
  },
  {
   "cell_type": "code",
   "execution_count": null,
   "id": "2789db6e",
   "metadata": {},
   "outputs": [],
   "source": [
    "# 3\n",
    "a=int(input('enter first number'))\n",
    "if a%2==0:\n",
    "  print(a, 'is even')\n",
    "else:\n",
    "    print(a,'is odd')"
   ]
  },
  {
   "cell_type": "code",
   "execution_count": null,
   "id": "c671a99c",
   "metadata": {},
   "outputs": [],
   "source": [
    "#4\n",
    "a=input('enter first number')\n",
    "b=input('enter second number')\n",
    "if a>b:\n",
    "    print(a,'is larger than',b)\n",
    "else:\n",
    "    print(b,'is larger than',a)"
   ]
  },
  {
   "cell_type": "code",
   "execution_count": null,
   "id": "50143aee",
   "metadata": {},
   "outputs": [],
   "source": [
    "#5\n",
    "p = int(input(\"enter physics mark\"))\n",
    "m = int(input(\"enter maths mark\"))\n",
    "e = int(input(\"enter english mark\"))\n",
    "i = int(input(\"enter IT mark\"))\n",
    "b = int(input(\"enter biology mark\"))\n",
    "t=p+m+e+i+b\n",
    "per=t*100/500\n",
    "if per>=80:\n",
    "    print('A')\n",
    "elif per<80 and per<=60:\n",
    "    print('B')\n",
    "elif per<60 and per>=50:\n",
    "    print('C')\n",
    "elif per<50 and per>=45:\n",
    "    print('D')\n",
    "elif per<45 and per>=5:\n",
    "    print('e')\n",
    "else:\n",
    "    print('you are failed')"
   ]
  },
  {
   "cell_type": "code",
   "execution_count": null,
   "id": "6639ad7e",
   "metadata": {},
   "outputs": [],
   "source": [
    "#6\n",
    "a=int(input('enter the first age'))\n",
    "b=int(input('enter the second age'))\n",
    "c=int(input('enter the third age'))\n",
    "if a>b:\n",
    "    if a>c:\n",
    "        print(a, 'is oldest')\n",
    "    else:\n",
    "        print(c, 'is oldest')\n",
    "else:\n",
    "    if b>c:\n",
    "        print(b, 'is the oldest')\n",
    "    else:\n",
    "        print(c,'is oldest')"
   ]
  },
  {
   "cell_type": "code",
   "execution_count": null,
   "id": "6c4530da",
   "metadata": {},
   "outputs": [],
   "source": [
    "#7\n",
    "h=int(input('enter the number of classes held'))\n",
    "a=int(input('enter the number of classes attended'))\n",
    "p=a/h*100\n",
    "if p>=75:\n",
    "    print('elgible')\n",
    "else:\n",
    "    print('not eligible')"
   ]
  }
 ],
 "metadata": {
  "language_info": {
   "name": "python"
  }
 },
 "nbformat": 4,
 "nbformat_minor": 5
}
