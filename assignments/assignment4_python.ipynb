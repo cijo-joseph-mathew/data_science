{
 "cells": [
  {
   "cell_type": "code",
   "execution_count": 3,
   "id": "292de402",
   "metadata": {},
   "outputs": [
    {
     "name": "stdout",
     "output_type": "stream",
     "text": [
      "1 2 3 4 5 "
     ]
    }
   ],
   "source": [
    "l1=[1,2,3,4,5]\n",
    "for i in l1:\n",
    "    print(i,end=' ')\n"
   ]
  },
  {
   "cell_type": "code",
   "execution_count": 4,
   "id": "a9122f0d",
   "metadata": {},
   "outputs": [
    {
     "name": "stdout",
     "output_type": "stream",
     "text": [
      "29\n"
     ]
    }
   ],
   "source": [
    "l1=[7,5,3,8,6]\n",
    "s=0\n",
    "for i in l1:\n",
    "    s+=i\n",
    "print(s)"
   ]
  },
  {
   "cell_type": "code",
   "execution_count": 5,
   "id": "12fc2587",
   "metadata": {},
   "outputs": [
    {
     "name": "stdout",
     "output_type": "stream",
     "text": [
      "[1, 2, 3]\n"
     ]
    }
   ],
   "source": [
    "a,b,c=1,2,3\n",
    "l1=[]\n",
    "l1.append(a)\n",
    "l1.append(b)\n",
    "l1.append(c)\n",
    "print(l1)"
   ]
  },
  {
   "cell_type": "code",
   "execution_count": 5,
   "id": "892f4862",
   "metadata": {},
   "outputs": [
    {
     "name": "stdout",
     "output_type": "stream",
     "text": [
      "10.0\n"
     ]
    }
   ],
   "source": [
    "l1=[-12,8,-7,6,12,-9,14]\n",
    "c=0\n",
    "s=0\n",
    "for i in l1:\n",
    "    if i>0:\n",
    "        s+=i\n",
    "        c+=1\n",
    "    if c>0:\n",
    "        \n",
    "        r=s/c\n",
    "print(r)"
   ]
  },
  {
   "cell_type": "code",
   "execution_count": 7,
   "id": "6bca4f87",
   "metadata": {},
   "outputs": [
    {
     "name": "stdout",
     "output_type": "stream",
     "text": [
      "not perfect\n"
     ]
    }
   ],
   "source": [
    "n=int(input('enter a number'))\n",
    "s=0\n",
    "for i in range(1,n):\n",
    "    if n%i==0:\n",
    "        s+=i\n",
    "if s==n:\n",
    "    print('perfect')\n",
    "else:\n",
    "    print('not perfect')"
   ]
  },
  {
   "cell_type": "code",
   "execution_count": 8,
   "id": "3e9e19c0",
   "metadata": {},
   "outputs": [
    {
     "name": "stdout",
     "output_type": "stream",
     "text": [
      "Arun\n",
      "20\n"
     ]
    }
   ],
   "source": [
    "student={'name':'Arun','age':20,'marks':{'maths':30,'science':25}}\n",
    "print(student['name'])\n",
    "print(student['age'])"
   ]
  },
  {
   "cell_type": "markdown",
   "id": "50a91a81",
   "metadata": {},
   "source": [
    "# function"
   ]
  },
  {
   "cell_type": "code",
   "execution_count": null,
   "id": "10aa07b1",
   "metadata": {},
   "outputs": [],
   "source": [
    "def find_max(a, b, c):\n",
    "    if a >= b and a >= c:\n",
    "        return a\n",
    "    elif b >= a and b >= c:\n",
    "        return b\n",
    "    else:\n",
    "        return c\n",
    "\n",
    "\n",
    "num1 = int(input(\"Enter first number: \"))\n",
    "num2 = int(input(\"Enter second number: \"))\n",
    "num3 = int(input(\"Enter third number: \"))\n",
    "\n",
    "\n",
    "maximum = find_max(num1, num2, num3)\n",
    "print(\"The maximum number is:\", maximum)\n"
   ]
  },
  {
   "cell_type": "code",
   "execution_count": null,
   "id": "9e08992f",
   "metadata": {},
   "outputs": [],
   "source": [
    "def is_prime(n):\n",
    "    if n <= 1:\n",
    "        return False\n",
    "    for i in range(2, n):\n",
    "        if n % i == 0:\n",
    "            return False\n",
    "    return True\n",
    "\n",
    "\n",
    "num = int(input(\"Enter a number: \"))"
   ]
  },
  {
   "cell_type": "code",
   "execution_count": null,
   "id": "7d5468f2",
   "metadata": {},
   "outputs": [],
   "source": [
    "def factorial(n):\n",
    "    f = 1\n",
    "    for i in range(1, n + 1):\n",
    "        f = f * i\n",
    "    return f\n",
    "\n",
    "num = int(input(\"Enter a number: \"))\n",
    "\n",
    "if num < 0:\n",
    "    print(\"Factorial is:\", factorial(num))\n",
    "    "
   ]
  },
  {
   "cell_type": "code",
   "execution_count": 11,
   "id": "3ce56a06",
   "metadata": {},
   "outputs": [
    {
     "name": "stdout",
     "output_type": "stream",
     "text": [
      "Fibonacci series:\n",
      "0 1 1 "
     ]
    }
   ],
   "source": [
    "def fibonacci(n):\n",
    "    a, b = 0, 1\n",
    "    for i in range(n):\n",
    "        print(a, end=\" \")\n",
    "        a, b = b, a + b\n",
    "\n",
    "\n",
    "num = int(input(\"Enter number of terms: \"))\n",
    "print(\"Fibonacci series:\")\n",
    "fibonacci(num)"
   ]
  },
  {
   "cell_type": "code",
   "execution_count": null,
   "id": "26d5ea59",
   "metadata": {},
   "outputs": [],
   "source": [
    "def sum(numbers):\n",
    "    total = 0\n",
    "    for num in numbers:\n",
    "        total += num\n",
    "    return total\n",
    "\n",
    "\n",
    "l1=[2, 5, 8, 10, 3]\n",
    "print(\"Sum of all numbers:\", sum_of_list(my_list))"
   ]
  },
  {
   "cell_type": "code",
   "execution_count": null,
   "id": "d48cd236",
   "metadata": {},
   "outputs": [],
   "source": [
    "def multiply(numbers):\n",
    "    result = 1\n",
    "    for n in numbers:\n",
    "        result *= n\n",
    "    return result\n",
    "\n",
    "nums = [2, 3, 4]\n",
    "print(\"Product:\", multiply(nums))   "
   ]
  },
  {
   "cell_type": "code",
   "execution_count": null,
   "id": "59963687",
   "metadata": {},
   "outputs": [],
   "source": [
    "def count_upper_lower(text):\n",
    "    upper_count = 0\n",
    "    lower_count = 0\n",
    "    for char in text:\n",
    "        if char.isupper():\n",
    "            upper_count += 1\n",
    "        elif char.islower():\n",
    "            lower_count += 1\n",
    "    return upper_count, lower_count\n",
    "\n",
    "user_input = input(\"Enter a string: \")\n",
    "upper, lower = count_upper_lower(user_input)\n",
    "print(\"Number of uppercase letters:\", upper)\n",
    "print(\"Number of lowercase letters:\", lower)"
   ]
  },
  {
   "cell_type": "code",
   "execution_count": null,
   "id": "96e433ba",
   "metadata": {},
   "outputs": [],
   "source": [
    "def is_palindrome(text):\n",
    "    reversed_text = \"\"\n",
    "    for char in text:\n",
    "        reversed_text = char + reversed_text\n",
    "    if text == reversed_text:\n",
    "        return True\n",
    "    else:\n",
    "        return False\n",
    "\n",
    "user_input = input(\"Enter a string: \")\n",
    "if is_palindrome(user_input):\n",
    "    print(\"The string is a palindrome.\")\n",
    "else:\n",
    "    print(\"The string is not a palindrome.\")\n"
   ]
  },
  {
   "cell_type": "code",
   "execution_count": null,
   "id": "29fc9a56",
   "metadata": {},
   "outputs": [],
   "source": [
    "def print_factors(n):\n",
    "    for i in range(1, n + 1):\n",
    "        if n % i == 0:\n",
    "            print(i, end=' ')\n",
    "\n",
    "num = int(input(\"Enter a number: \"))\n",
    "print_factors(num)"
   ]
  }
 ],
 "metadata": {
  "kernelspec": {
   "display_name": "Python 3",
   "language": "python",
   "name": "python3"
  },
  "language_info": {
   "codemirror_mode": {
    "name": "ipython",
    "version": 3
   },
   "file_extension": ".py",
   "mimetype": "text/x-python",
   "name": "python",
   "nbconvert_exporter": "python",
   "pygments_lexer": "ipython3",
   "version": "3.11.9"
  }
 },
 "nbformat": 4,
 "nbformat_minor": 5
}
