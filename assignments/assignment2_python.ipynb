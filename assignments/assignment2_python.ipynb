{
 "cells": [
  {
   "cell_type": "code",
   "execution_count": null,
   "id": "2c1d5564",
   "metadata": {},
   "outputs": [
    {
     "name": "stdout",
     "output_type": "stream",
     "text": [
      "2\n",
      "4\n",
      "6\n",
      "8\n",
      "10\n",
      "12\n",
      "14\n",
      "16\n",
      "18\n",
      "20\n",
      "22\n",
      "24\n"
     ]
    }
   ],
   "source": [
    "#1\n",
    "for i in range(1,25):\n",
    "    if i%2==0:\n",
    "      print(i)\n",
    "    "
   ]
  },
  {
   "cell_type": "code",
   "execution_count": null,
   "id": "c5400bf4",
   "metadata": {},
   "outputs": [
    {
     "name": "stdout",
     "output_type": "stream",
     "text": [
      "15\n"
     ]
    }
   ],
   "source": [
    "#2\n",
    "n=int(input('enter a number'))\n",
    "s=0\n",
    "for i in range(n+1):\n",
    "    s+=i\n",
    "print(s)"
   ]
  },
  {
   "cell_type": "code",
   "execution_count": null,
   "id": "a5e4652d",
   "metadata": {},
   "outputs": [],
   "source": [
    "#3\n",
    "s=input('enter a string')\n",
    "for i in s:\n",
    "    print(i)"
   ]
  },
  {
   "cell_type": "code",
   "execution_count": null,
   "id": "14a72d58",
   "metadata": {},
   "outputs": [],
   "source": [
    "#4\n",
    "n=int(input('enter the number for multiplication'))\n",
    "for i in range(1,11):\n",
    "    print(i,'*',n,'=',i*n)"
   ]
  },
  {
   "cell_type": "code",
   "execution_count": null,
   "id": "f23ceef3",
   "metadata": {},
   "outputs": [],
   "source": [
    "#5\n",
    "i=5\n",
    "while i<=15:\n",
    "    print(i)\n",
    "    i+=1 "
   ]
  },
  {
   "cell_type": "code",
   "execution_count": null,
   "id": "aab7bc35",
   "metadata": {},
   "outputs": [
    {
     "name": "stdout",
     "output_type": "stream",
     "text": [
      "*\n",
      "**\n",
      "***\n",
      "****\n",
      "*****\n"
     ]
    }
   ],
   "source": [
    "#6\n",
    "n=int(input('enter the numver of rows'))\n",
    "for i in range(1,n+1):\n",
    "    if i<=n:\n",
    "       print('*'*i )\n",
    "       \n"
   ]
  },
  {
   "cell_type": "code",
   "execution_count": null,
   "id": "6cc76fac",
   "metadata": {},
   "outputs": [],
   "source": [
    "n=int(input('enter the number of rows'))\n",
    "for i in range(n,0,-1):\n",
    "        print('*'*i )"
   ]
  },
  {
   "cell_type": "code",
   "execution_count": null,
   "id": "99ceb457",
   "metadata": {},
   "outputs": [
    {
     "name": "stdout",
     "output_type": "stream",
     "text": [
      "Not a prime number\n"
     ]
    }
   ],
   "source": [
    "#7 \n",
    "\n",
    "num = int(input(\"Enter a number: \"))\n",
    "\n",
    "if num <= 1:\n",
    "    print(\"Not a prime number\")\n",
    "else:\n",
    "    for i in range(2, num):\n",
    "        if num % i == 0:\n",
    "            print(\"Not a prime number\")\n",
    "            break\n",
    "    else:\n",
    "        print(\"Prime number\")"
   ]
  },
  {
   "cell_type": "code",
   "execution_count": null,
   "id": "934ae3e7",
   "metadata": {},
   "outputs": [],
   "source": [
    "#8\n",
    "i=1\n",
    "f=1\n",
    "n=int(input('enter the number'))\n",
    "while i<=n:\n",
    "    f*=i\n",
    "    i=i+1\n",
    "print(f) "
   ]
  },
  {
   "cell_type": "code",
   "execution_count": null,
   "id": "158c8dd6",
   "metadata": {},
   "outputs": [],
   "source": [
    "#9\n",
    "a=int(input())\n",
    "l1=[]\n",
    "if a%2==0:\n",
    "  l1.append(i)\n",
    "\n",
    "print(l1)"
   ]
  },
  {
   "cell_type": "code",
   "execution_count": null,
   "id": "b4d27522",
   "metadata": {},
   "outputs": [
    {
     "name": "stdout",
     "output_type": "stream",
     "text": [
      "Fibonacci series:\n",
      "0\n",
      "1\n",
      "1\n",
      "2\n",
      "3\n",
      "5\n",
      "8\n",
      "13\n",
      "21\n",
      "34\n"
     ]
    }
   ],
   "source": [
    "#10\n",
    "a=0\n",
    "b=1\n",
    "print(\"Fibonacci series:\")\n",
    "for i in range(10):\n",
    "    print(a)\n",
    "    c=a+b\n",
    "    a=b\n",
    "    b=c"
   ]
  }
 ],
 "metadata": {
  "kernelspec": {
   "display_name": "Python 3",
   "language": "python",
   "name": "python3"
  },
  "language_info": {
   "codemirror_mode": {
    "name": "ipython",
    "version": 3
   },
   "file_extension": ".py",
   "mimetype": "text/x-python",
   "name": "python",
   "nbconvert_exporter": "python",
   "pygments_lexer": "ipython3",
   "version": "3.11.9"
  }
 },
 "nbformat": 4,
 "nbformat_minor": 5
}
