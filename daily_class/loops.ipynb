{
 "cells": [
  {
   "cell_type": "code",
   "execution_count": null,
   "id": "00fb06dd",
   "metadata": {},
   "outputs": [
    {
     "name": "stdout",
     "output_type": "stream",
     "text": [
      "1\n",
      "3\n",
      "5\n",
      "7\n",
      "9\n"
     ]
    }
   ],
   "source": [
    "for i in range(1,10,2):\n",
    "    print(i)"
   ]
  },
  {
   "cell_type": "code",
   "execution_count": null,
   "id": "2c1d5564",
   "metadata": {},
   "outputs": [
    {
     "name": "stdout",
     "output_type": "stream",
     "text": [
      "2\n",
      "4\n",
      "6\n",
      "8\n",
      "10\n",
      "12\n",
      "14\n",
      "16\n",
      "18\n",
      "20\n",
      "22\n",
      "24\n"
     ]
    }
   ],
   "source": [
    "for i in range(1,25):\n",
    "    if i%2==0:\n",
    "      print(i)\n",
    "    "
   ]
  },
  {
   "cell_type": "code",
   "execution_count": null,
   "id": "c5400bf4",
   "metadata": {},
   "outputs": [
    {
     "name": "stdout",
     "output_type": "stream",
     "text": [
      "15\n"
     ]
    }
   ],
   "source": [
    "n=int(input('enter a number'))\n",
    "s=0\n",
    "for i in range(n+1):\n",
    "    s+=i\n",
    "print(s)"
   ]
  },
  {
   "cell_type": "code",
   "execution_count": null,
   "id": "aab7bc35",
   "metadata": {},
   "outputs": [
    {
     "name": "stdout",
     "output_type": "stream",
     "text": [
      "*\n",
      "**\n",
      "***\n",
      "****\n",
      "*****\n"
     ]
    }
   ],
   "source": [
    "n=int(input('enter the numver of rows'))\n",
    "for i in range(1,n+1):\n",
    "    if i<=n:\n",
    "       print('*'*i )\n",
    "       \n"
   ]
  },
  {
   "cell_type": "code",
   "execution_count": null,
   "id": "86cafc6a",
   "metadata": {},
   "outputs": [
    {
     "name": "stdout",
     "output_type": "stream",
     "text": [
      "5\n",
      "6\n",
      "7\n",
      "8\n",
      "9\n",
      "10\n",
      "11\n",
      "12\n",
      "13\n",
      "14\n",
      "15\n"
     ]
    }
   ],
   "source": [
    "i=5\n",
    "while i<=15:\n",
    "    print(i)\n",
    "    i+=1 "
   ]
  },
  {
   "cell_type": "code",
   "execution_count": 2,
   "id": "ffa4fc98",
   "metadata": {},
   "outputs": [
    {
     "name": "stdout",
     "output_type": "stream",
     "text": [
      "0\n",
      "1\n",
      "2\n",
      "3\n"
     ]
    }
   ],
   "source": [
    "i=0\n",
    "while i<=7:\n",
    "    if i==4:\n",
    "        break\n",
    "    print(i)\n",
    "    i+=1"
   ]
  },
  {
   "cell_type": "code",
   "execution_count": null,
   "id": "4e901e87",
   "metadata": {},
   "outputs": [
    {
     "name": "stdout",
     "output_type": "stream",
     "text": [
      "hi cijo\n",
      "hi aditya\n",
      "hi nirmal\n",
      "helo cijo\n",
      "welcome cijo\n",
      "welcome aditya\n",
      "welcome nirmal\n"
     ]
    }
   ],
   "source": [
    "l1=['hi','helo','welcome']\n",
    "l2=['cijo','aditya','nirmal']\n",
    "for i in l1:\n",
    "    for n in l2:\n",
    "        if i=='helo' and n=='aditya':\n",
    "            break\n",
    "         print(i,n) "
   ]
  },
  {
   "cell_type": "code",
   "execution_count": 12,
   "id": "fdde982a",
   "metadata": {},
   "outputs": [
    {
     "name": "stdout",
     "output_type": "stream",
     "text": [
      "greater than 40\n",
      "but not greater than 50\n"
     ]
    }
   ],
   "source": [
    "x=50\n",
    "if x>40:\n",
    "    print('greater than 40')\n",
    "    if x>50:\n",
    "        print('alse greater than 50')\n",
    "    else:\n",
    "        print('but not greater than 50')    "
   ]
  },
  {
   "cell_type": "code",
   "execution_count": 15,
   "id": "020ae21d",
   "metadata": {},
   "outputs": [
    {
     "name": "stdout",
     "output_type": "stream",
     "text": [
      "7\n",
      "not didvisible by 2 and 3\n"
     ]
    }
   ],
   "source": [
    "n=int(input('enter a number'))\n",
    "print(n)\n",
    "if n%2==0:\n",
    "    if n%3==0:\n",
    "        print('it is divisible by 2 nad 3')\n",
    "    else:\n",
    "        print('it is only divisible by 2')\n",
    "else:\n",
    "    if n%3==0:\n",
    "        print('divisible by 3 not by 2')\n",
    "    else:\n",
    "        print('not didvisible by 2 and 3')"
   ]
  },
  {
   "cell_type": "code",
   "execution_count": 2,
   "id": "0a27b904",
   "metadata": {},
   "outputs": [
    {
     "name": "stdout",
     "output_type": "stream",
     "text": [
      "c\n",
      "i\n",
      "j\n",
      "o\n"
     ]
    }
   ],
   "source": [
    "s=input('enter a string')\n",
    "for i in s:\n",
    "    print(i)"
   ]
  },
  {
   "cell_type": "code",
   "execution_count": 3,
   "id": "057a831b",
   "metadata": {},
   "outputs": [
    {
     "name": "stdout",
     "output_type": "stream",
     "text": [
      "1 * 4 = 4\n",
      "2 * 4 = 8\n",
      "3 * 4 = 12\n",
      "4 * 4 = 16\n",
      "5 * 4 = 20\n",
      "6 * 4 = 24\n",
      "7 * 4 = 28\n",
      "8 * 4 = 32\n",
      "9 * 4 = 36\n",
      "10 * 4 = 40\n"
     ]
    }
   ],
   "source": [
    "n=int(input('enter the number for multiplication'))\n",
    "for i in range(1,11):\n",
    "    print(i,'*',n,'=',i*n)"
   ]
  },
  {
   "cell_type": "code",
   "execution_count": 8,
   "id": "5d5cfb39",
   "metadata": {},
   "outputs": [
    {
     "name": "stdout",
     "output_type": "stream",
     "text": [
      "1 * 4 = 4\n",
      "2 * 4 = 8\n",
      "3 * 4 = 12\n",
      "4 * 4 = 16\n",
      "5 * 4 = 20\n",
      "6 * 4 = 24\n",
      "7 * 4 = 28\n",
      "8 * 4 = 32\n",
      "9 * 4 = 36\n",
      "10 * 4 = 40\n"
     ]
    }
   ],
   "source": [
    "\n",
    "i=1\n",
    "n=int(input('enter the number for multiplication'))\n",
    "while i<=10:\n",
    "    print(i,'*',n,'=',i*n)\n",
    "    i+=1\n"
   ]
  },
  {
   "cell_type": "code",
   "execution_count": 14,
   "id": "d1ebef35",
   "metadata": {},
   "outputs": [
    {
     "name": "stdout",
     "output_type": "stream",
     "text": [
      "*****\n",
      "****\n",
      "***\n",
      "**\n",
      "*\n"
     ]
    }
   ],
   "source": [
    "n=int(input('enter the number of rows'))\n",
    "for i in range(n,0,-1):\n",
    "        print('*'*i )\n",
    "           \n",
    "           "
   ]
  },
  {
   "cell_type": "code",
   "execution_count": 15,
   "id": "9cea7005",
   "metadata": {},
   "outputs": [
    {
     "name": "stdout",
     "output_type": "stream",
     "text": [
      "120\n"
     ]
    }
   ],
   "source": [
    "i=1\n",
    "f=1\n",
    "n=int(input('enter the number'))\n",
    "while i<=n:\n",
    "    f*=i\n",
    "    i=i+1\n",
    "print(f) "
   ]
  }
 ],
 "metadata": {
  "kernelspec": {
   "display_name": "Python 3",
   "language": "python",
   "name": "python3"
  },
  "language_info": {
   "codemirror_mode": {
    "name": "ipython",
    "version": 3
   },
   "file_extension": ".py",
   "mimetype": "text/x-python",
   "name": "python",
   "nbconvert_exporter": "python",
   "pygments_lexer": "ipython3",
   "version": "3.11.9"
  }
 },
 "nbformat": 4,
 "nbformat_minor": 5
}
