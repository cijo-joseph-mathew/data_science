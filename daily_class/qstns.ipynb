{
 "cells": [
  {
   "cell_type": "code",
   "execution_count": 5,
   "id": "a24c19a1",
   "metadata": {},
   "outputs": [
    {
     "name": "stdout",
     "output_type": "stream",
     "text": [
      "error!! zero cannot be denomenator\n"
     ]
    }
   ],
   "source": [
    "def div(n3,n4):\n",
    "    if n4==0:\n",
    "        print('error!! zero cannot be denomenator')\n",
    "    else:\n",
    "        return n3/n4\n",
    "n3=int(input('rnter the first number'))\n",
    "n4=int(input('enter the second number'))\n",
    "div(n3,n4)\n",
    "\n",
    "    \n"
   ]
  },
  {
   "cell_type": "code",
   "execution_count": 10,
   "id": "3e7d1872",
   "metadata": {},
   "outputs": [
    {
     "data": {
      "text/plain": [
       "(4, 5)"
      ]
     },
     "execution_count": 10,
     "metadata": {},
     "output_type": "execute_result"
    }
   ],
   "source": [
    "def swap(a,b):\n",
    "    c=a\n",
    "    a=b\n",
    "    b=c\n",
    "    return a,b\n",
    "a=int(input('enter the first number'))\n",
    "b=int(input('enter the second number'))\n",
    "swap(a,b)\n"
   ]
  },
  {
   "cell_type": "code",
   "execution_count": 19,
   "id": "0349ec8b",
   "metadata": {},
   "outputs": [
    {
     "data": {
      "text/plain": [
       "'zero'"
      ]
     },
     "execution_count": 19,
     "metadata": {},
     "output_type": "execute_result"
    }
   ],
   "source": [
    "def check(n):\n",
    "    if n>0:\n",
    "        print(n, 'is positive and')\n",
    "        if n%2==0:\n",
    "            return 'Even' \n",
    "        else:\n",
    "            return 'odd'\n",
    "    elif n<0:\n",
    "        return 'negative'\n",
    "    else:\n",
    "        return 'zero'\n",
    "n=int(input('enter the number'))\n",
    "check(n)\n"
   ]
  },
  {
   "cell_type": "code",
   "execution_count": 21,
   "id": "499323d9",
   "metadata": {},
   "outputs": [
    {
     "data": {
      "text/plain": [
       "'not leap year'"
      ]
     },
     "execution_count": 21,
     "metadata": {},
     "output_type": "execute_result"
    }
   ],
   "source": [
    "def leap(n):\n",
    "    if n%100==0 and n%400==0:\n",
    "        return 'leap year'\n",
    "    elif n%100!=0 and n%4==0:\n",
    "        return 'leap year'\n",
    "    else:\n",
    "        return 'not leap year'\n",
    "n=int(input('enter a year'))\n",
    "leap(n)"
   ]
  },
  {
   "cell_type": "code",
   "execution_count": 37,
   "id": "5af63433",
   "metadata": {},
   "outputs": [
    {
     "data": {
      "text/plain": [
       "'prime'"
      ]
     },
     "execution_count": 37,
     "metadata": {},
     "output_type": "execute_result"
    }
   ],
   "source": [
    "def prime(n):\n",
    "    flag = False\n",
    "    if n<=1:\n",
    "        print(\"Not a prime number\")\n",
    "    elif n==2:\n",
    "        print('prime number')\n",
    "    else:\n",
    "        for i in range(3,n):\n",
    "            if n%i==0:\n",
    "                # print(\"Not a prime number\")\n",
    "                flag = True\n",
    "                break\n",
    "            # else:\n",
    "            #     print(\"Prime number\")\n",
    "\n",
    "    if flag == True:\n",
    "        return'not prime'\n",
    "    else:\n",
    "        return 'prime'\n",
    "\n",
    "\n",
    "n=int(input('enter a number'))\n",
    "prime(n)\n",
    "\n",
    "    \n"
   ]
  },
  {
   "cell_type": "code",
   "execution_count": null,
   "id": "ef1c475b",
   "metadata": {},
   "outputs": [],
   "source": []
  }
 ],
 "metadata": {
  "kernelspec": {
   "display_name": "Python 3",
   "language": "python",
   "name": "python3"
  },
  "language_info": {
   "codemirror_mode": {
    "name": "ipython",
    "version": 3
   },
   "file_extension": ".py",
   "mimetype": "text/x-python",
   "name": "python",
   "nbconvert_exporter": "python",
   "pygments_lexer": "ipython3",
   "version": "3.11.9"
  }
 },
 "nbformat": 4,
 "nbformat_minor": 5
}
