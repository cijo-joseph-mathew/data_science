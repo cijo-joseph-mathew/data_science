{
 "cells": [
  {
   "cell_type": "code",
   "execution_count": 5,
   "id": "a24c19a1",
   "metadata": {},
   "outputs": [
    {
     "name": "stdout",
     "output_type": "stream",
     "text": [
      "error!! zero cannot be denomenator\n"
     ]
    }
   ],
   "source": [
    "def div(n3,n4):\n",
    "    if n4==0:\n",
    "        print('error!! zero cannot be denomenator')\n",
    "    else:\n",
    "        return n3/n4\n",
    "n3=int(input('rnter the first number'))\n",
    "n4=int(input('enter the second number'))\n",
    "div(n3,n4)\n",
    "\n",
    "    \n"
   ]
  },
  {
   "cell_type": "code",
   "execution_count": 10,
   "id": "3e7d1872",
   "metadata": {},
   "outputs": [
    {
     "data": {
      "text/plain": [
       "(4, 5)"
      ]
     },
     "execution_count": 10,
     "metadata": {},
     "output_type": "execute_result"
    }
   ],
   "source": [
    "def swap(a,b):\n",
    "    c=a\n",
    "    a=b\n",
    "    b=c\n",
    "    return a,b\n",
    "a=int(input('enter the first number'))\n",
    "b=int(input('enter the second number'))\n",
    "swap(a,b)\n"
   ]
  },
  {
   "cell_type": "code",
   "execution_count": 19,
   "id": "0349ec8b",
   "metadata": {},
   "outputs": [
    {
     "data": {
      "text/plain": [
       "'zero'"
      ]
     },
     "execution_count": 19,
     "metadata": {},
     "output_type": "execute_result"
    }
   ],
   "source": [
    "def check(n):\n",
    "    if n>0:\n",
    "        print(n, 'is positive and')\n",
    "        if n%2==0:\n",
    "            return 'Even' \n",
    "        else:\n",
    "            return 'odd'\n",
    "    elif n<0:\n",
    "        return 'negative'\n",
    "    else:\n",
    "        return 'zero'\n",
    "n=int(input('enter the number'))\n",
    "check(n)\n"
   ]
  },
  {
   "cell_type": "code",
   "execution_count": 21,
   "id": "499323d9",
   "metadata": {},
   "outputs": [
    {
     "data": {
      "text/plain": [
       "'not leap year'"
      ]
     },
     "execution_count": 21,
     "metadata": {},
     "output_type": "execute_result"
    }
   ],
   "source": [
    "def leap(n):\n",
    "    if n%100==0 and n%400==0:\n",
    "        return 'leap year'\n",
    "    elif n%100!=0 and n%4==0:\n",
    "        return 'leap year'\n",
    "    else:\n",
    "        return 'not leap year'\n",
    "n=int(input('enter a year'))\n",
    "leap(n)"
   ]
  },
  {
   "cell_type": "code",
   "execution_count": 37,
   "id": "5af63433",
   "metadata": {},
   "outputs": [
    {
     "data": {
      "text/plain": [
       "'prime'"
      ]
     },
     "execution_count": 37,
     "metadata": {},
     "output_type": "execute_result"
    }
   ],
   "source": [
    "def prime(n):\n",
    "    flag = False\n",
    "    if n<=1:\n",
    "        print(\"Not a prime number\")\n",
    "    elif n==2:\n",
    "        print('prime number')\n",
    "    else:\n",
    "        for i in range(3,n):\n",
    "            if n%i==0:\n",
    "                # print(\"Not a prime number\")\n",
    "                flag = True\n",
    "                break\n",
    "            # else:\n",
    "            #     print(\"Prime number\")\n",
    "\n",
    "    if flag == True:\n",
    "        return'not prime'\n",
    "    else:\n",
    "        return 'prime'\n",
    "\n",
    "\n",
    "n=int(input('enter a number'))\n",
    "prime(n)\n",
    "\n",
    "    \n"
   ]
  },
  {
   "cell_type": "code",
   "execution_count": 2,
   "id": "ef1c475b",
   "metadata": {},
   "outputs": [
    {
     "name": "stdout",
     "output_type": "stream",
     "text": [
      "1 * 4 = 4\n",
      "2 * 4 = 8\n",
      "3 * 4 = 12\n",
      "4 * 4 = 16\n",
      "5 * 4 = 20\n",
      "6 * 4 = 24\n",
      "7 * 4 = 28\n",
      "8 * 4 = 32\n",
      "9 * 4 = 36\n",
      "10 * 4 = 40\n"
     ]
    }
   ],
   "source": [
    "def mul(n):\n",
    "    for i in range(1,11):\n",
    "        print(i,'*',n,'=',i*n)\n",
    "\n",
    "n=int(input('enter the number for multiplication'))\n",
    "mul(n)\n"
   ]
  },
  {
   "cell_type": "code",
   "execution_count": null,
   "id": "4eee09c4",
   "metadata": {},
   "outputs": [],
   "source": []
  },
  {
   "cell_type": "code",
   "execution_count": null,
   "id": "1fdb0bd8",
   "metadata": {},
   "outputs": [],
   "source": [
    "def fibo(n):\n",
    "    a,b=0,1\n",
    "    for i in range(n):\n",
    "        print(a,end=' ')\n",
    "        a,b=b,a+b\n",
    "num = int(input(\"Enter number of terms: \"))\n",
    "print(\"Fibonacci series:\")\n",
    "fibo(num)\n"
   ]
  },
  {
   "cell_type": "code",
   "execution_count": 18,
   "id": "bf10881a",
   "metadata": {},
   "outputs": [
    {
     "data": {
      "text/plain": [
       "'is amstrong number'"
      ]
     },
     "execution_count": 18,
     "metadata": {},
     "output_type": "execute_result"
    }
   ],
   "source": [
    "def amstrong(n):\n",
    "    temp=n\n",
    "    r=0\n",
    "    while n>0:\n",
    "        d=n%10\n",
    "        r+=d  **len(str(temp))\n",
    "        n//=10\n",
    "    if r==temp:\n",
    "        return 'is amstrong number'\n",
    "\n",
    "    else:\n",
    "        return 'not amstrong'\n",
    "n=int(input('enter the number'))\n",
    "amstrong(n)\n"
   ]
  },
  {
   "cell_type": "code",
   "execution_count": 22,
   "id": "5d9c4547",
   "metadata": {},
   "outputs": [
    {
     "name": "stdout",
     "output_type": "stream",
     "text": [
      "amstrong numbers between 10 and 1000 are:\n",
      "153\n",
      "370\n",
      "371\n",
      "407\n"
     ]
    }
   ],
   "source": [
    "def amstrong(n):\n",
    "    temp=n\n",
    "    r=0\n",
    "    while n>0:\n",
    "        d=n%10\n",
    "        r+=d  **len(str(temp))\n",
    "        n//=10\n",
    "    \n",
    "    if temp==r:\n",
    "        return temp \n",
    "\n",
    "\n",
    "\n",
    "s=int(input('enter the starting point'))\n",
    "e=int(input('enter the end point'))\n",
    "print(f'amstrong numbers between {s} and {e} are:')\n",
    "for i in range(s,e):\n",
    "    if amstrong(i):\n",
    "        print(i)"
   ]
  },
  {
   "cell_type": "code",
   "execution_count": null,
   "id": "9adcf696",
   "metadata": {},
   "outputs": [
    {
     "name": "stdout",
     "output_type": "stream",
     "text": [
      "LCM of 12 and 12 is 12\n"
     ]
    }
   ],
   "source": []
  },
  {
   "cell_type": "code",
   "execution_count": 3,
   "id": "bfbae3e5",
   "metadata": {},
   "outputs": [
    {
     "name": "stdout",
     "output_type": "stream",
     "text": [
      "LCM of 20 and 22 is 220\n"
     ]
    }
   ],
   "source": [
    "def lcm(a, b):\n",
    "    multiple = max(a, b)\n",
    "    step = multiple\n",
    "    while multiple % a != 0 or multiple % b != 0:\n",
    "        multiple += step\n",
    "    return multiple\n",
    "\n",
    "num1 = int(input(\"Enter first number: \"))\n",
    "num2 = int(input(\"Enter second number: \"))\n",
    "\n",
    "result = lcm(num1, num2)\n",
    "print(f\"LCM of {num1} and {num2} is {result}\")\n"
   ]
  },
  {
   "cell_type": "code",
   "execution_count": 5,
   "id": "35368e54",
   "metadata": {},
   "outputs": [
    {
     "name": "stdout",
     "output_type": "stream",
     "text": [
      "LCM of 12 and 8 is 24\n"
     ]
    }
   ],
   "source": [
    "def hcf(a,b):\n",
    "    com=min(a,b)\n",
    "    step=com\n",
    "    while com%a!=0 or com%b!=0:\n",
    "        com+=step\n",
    "    return com\n",
    "num1 = int(input(\"Enter first number: \"))\n",
    "num2 = int(input(\"Enter second number: \"))\n",
    "\n",
    "result = lcm(num1, num2)\n",
    "print(f\"LCM of {num1} and {num2} is {result}\")\n"
   ]
  },
  {
   "cell_type": "code",
   "execution_count": 8,
   "id": "65b28800",
   "metadata": {},
   "outputs": [
    {
     "name": "stdout",
     "output_type": "stream",
     "text": [
      "Fibonacci series:\n",
      "0 1 1 2 3 "
     ]
    }
   ],
   "source": [
    "def fibo(n):\n",
    "    if n <= 1:\n",
    "        return n\n",
    "    else:\n",
    "        return fibo(n-1) + fibo(n-2)\n",
    "\n",
    "n= int(input(\"Enter number of terms: \"))\n",
    "print(\"Fibonacci series:\")\n",
    "for i in range(n):\n",
    "    print(fibo(i),end=\" \")\n"
   ]
  },
  {
   "cell_type": "code",
   "execution_count": 12,
   "id": "0b82b7fc",
   "metadata": {},
   "outputs": [
    {
     "name": "stdout",
     "output_type": "stream",
     "text": [
      "Largest element is: 99\n"
     ]
    }
   ],
   "source": [
    "def find(n):\n",
    "    largest = n[0]\n",
    "    for num in n[1:]:\n",
    "        if num > largest:\n",
    "            largest = num\n",
    "    return largest\n",
    "\n",
    "numbers = [10,20,30,99]\n",
    "print(\"Largest element is:\", find(numbers))"
   ]
  },
  {
   "cell_type": "code",
   "execution_count": null,
   "id": "8eb57d5f",
   "metadata": {},
   "outputs": [
    {
     "name": "stdout",
     "output_type": "stream",
     "text": [
      "Largest element is: 4\n"
     ]
    }
   ],
   "source": [
    "def find(n):\n",
    "    l=max(l1)\n",
    "    return l\n",
    "l1=[10,20,30,99]\n",
    "print(\"Largest element is:\", find(l1))"
   ]
  },
  {
   "cell_type": "code",
   "execution_count": null,
   "id": "6b6718b8",
   "metadata": {},
   "outputs": [],
   "source": [
    "def find(n):\n",
    "    l=max(l1)\n",
    "    return l\n",
    "l1=list(input('enter a list of elements'))\n",
    "print(\"Largest element is:\", find(l1))"
   ]
  },
  {
   "cell_type": "code",
   "execution_count": null,
   "id": "a881a5bd",
   "metadata": {},
   "outputs": [],
   "source": [
    "def remov(s):\n",
    "    st=' '\n",
    "    for i in s:\n",
    "        if  i.isalpha():\n",
    "           st=st+i\n",
    "    print(st)\n",
    "s=input('enter a string ')\n",
    "remov(s)\n",
    "\n",
    "    "
   ]
  },
  {
   "cell_type": "code",
   "execution_count": 24,
   "id": "142b8e8b",
   "metadata": {},
   "outputs": [
    {
     "data": {
      "text/plain": [
       "'happy number'"
      ]
     },
     "execution_count": 24,
     "metadata": {},
     "output_type": "execute_result"
    }
   ],
   "source": [
    "def happy(n):\n",
    "    seen=[]\n",
    "    \n",
    "    while n!=1 and n not in seen:\n",
    "        seen.append(n)\n",
    "        sqnum=0\n",
    "        for dig in str(n):\n",
    "            sqnum+=int(dig)**2\n",
    "            n=sqnum\n",
    "\n",
    "    if n==1:\n",
    "        return 'happy number'\n",
    "    else: \n",
    "        return 'not happy number'      \n",
    "n=int(input('enter a number'))\n",
    "happy(n)\n",
    "     \n",
    "\n",
    "         \n",
    "\n",
    "\n",
    "    \n",
    "    \n"
   ]
  },
  {
   "cell_type": "code",
   "execution_count": null,
   "id": "295f2b2a",
   "metadata": {},
   "outputs": [],
   "source": [
    "def chek()\n",
    "if l:\n",
    "    print('true')"
   ]
  },
  {
   "cell_type": "code",
   "execution_count": 1,
   "id": "0b2714ab",
   "metadata": {},
   "outputs": [
    {
     "name": "stdout",
     "output_type": "stream",
     "text": [
      "1\n",
      "2\n",
      "3\n",
      "4\n",
      "5\n",
      "6\n",
      "7\n",
      "8\n",
      "9\n"
     ]
    }
   ],
   "source": [
    "for i in range(1,10):\n",
    "    print(i)"
   ]
  },
  {
   "cell_type": "code",
   "execution_count": 3,
   "id": "5e808716",
   "metadata": {},
   "outputs": [
    {
     "name": "stdout",
     "output_type": "stream",
     "text": [
      "1\n",
      "2\n",
      "3\n",
      "4\n",
      "5\n",
      "6\n",
      "7\n",
      "8\n",
      "9\n",
      "10\n",
      "11\n"
     ]
    }
   ],
   "source": [
    "i=0\n",
    "while i<=10:\n",
    "    print(i+1)\n",
    "    i+=1"
   ]
  },
  {
   "cell_type": "code",
   "execution_count": 9,
   "id": "277cb3e4",
   "metadata": {},
   "outputs": [
    {
     "name": "stdout",
     "output_type": "stream",
     "text": [
      "3\n"
     ]
    }
   ],
   "source": [
    "s=0\n",
    "def add(a,b):\n",
    "    s=a+b\n",
    "    print(s)\n",
    "add(1,2)\n"
   ]
  },
  {
   "cell_type": "code",
   "execution_count": 15,
   "id": "8a2e6bbd",
   "metadata": {},
   "outputs": [
    {
     "name": "stdout",
     "output_type": "stream",
     "text": [
      "[1, 2, 'cijo', 'aditya', 4]\n",
      "[5, 2, 'cijo', 'aditya', 4]\n"
     ]
    }
   ],
   "source": [
    "l1=[1,2,'cijo','aditya']\n",
    "l1.append(4)\n",
    "print(l1)\n",
    "l1[0]=5\n",
    "print(l1)"
   ]
  },
  {
   "cell_type": "code",
   "execution_count": 16,
   "id": "3c512608",
   "metadata": {},
   "outputs": [
    {
     "data": {
      "text/plain": [
       "{'a': 'apple', 'b': 'ball', 'c': 'cat'}"
      ]
     },
     "execution_count": 16,
     "metadata": {},
     "output_type": "execute_result"
    }
   ],
   "source": [
    "d={'a':'apple','b':'ball','c':'cat'}\n",
    "d"
   ]
  },
  {
   "cell_type": "code",
   "execution_count": 21,
   "id": "d44d7651",
   "metadata": {},
   "outputs": [
    {
     "name": "stdout",
     "output_type": "stream",
     "text": [
      "[0, 2, 4, 6, 8, 10, 12, 14, 16, 18, 20, 22, 24, 26, 28, 30, 32, 34, 36, 38, 40, 42, 44, 46, 48]\n"
     ]
    }
   ],
   "source": [
    "def evn(n):\n",
    "    l1=[]\n",
    "    for i in range(0,n):\n",
    "        if i%2==0:\n",
    "            l1.append(i)\n",
    "    return l1\n",
    "n=int(input('enter a number'))\n",
    "s=evn(n)\n",
    "print(s)\n"
   ]
  },
  {
   "cell_type": "code",
   "execution_count": 22,
   "id": "83ab7c59",
   "metadata": {},
   "outputs": [
    {
     "data": {
      "text/plain": [
       "'not prime'"
      ]
     },
     "execution_count": 22,
     "metadata": {},
     "output_type": "execute_result"
    }
   ],
   "source": [
    "def prime(n):\n",
    "    flag=False\n",
    "    if n<=1:\n",
    "        return 'not prime'\n",
    "    else:\n",
    "        for i in range(2,n):\n",
    "            if n%i==0:\n",
    "                flag=True\n",
    "                break\n",
    "    if flag==True:\n",
    "        return 'not prime'\n",
    "    else:\n",
    "        return 'prime'\n",
    "n=int(input('enter a number '))\n",
    "prime(n)\n",
    "            "
   ]
  },
  {
   "cell_type": "code",
   "execution_count": 23,
   "id": "61a08b22",
   "metadata": {},
   "outputs": [
    {
     "data": {
      "text/plain": [
       "24"
      ]
     },
     "execution_count": 23,
     "metadata": {},
     "output_type": "execute_result"
    }
   ],
   "source": [
    "def factorial(number):\n",
    "    if number==1:\n",
    "        return 1\n",
    "    else:\n",
    "        fact=number*factorial(number-1)\n",
    "    return(fact)\n",
    "number=int(input(\"Enter a number\"))\n",
    "factorial(number)"
   ]
  },
  {
   "cell_type": "code",
   "execution_count": null,
   "id": "109f4f73",
   "metadata": {},
   "outputs": [],
   "source": [
    "def fact(n):\n",
    "    if n==1:\n",
    "        return 1\n",
    "    else:\n",
    "        s=n*"
   ]
  }
 ],
 "metadata": {
  "kernelspec": {
   "display_name": "Python 3",
   "language": "python",
   "name": "python3"
  },
  "language_info": {
   "codemirror_mode": {
    "name": "ipython",
    "version": 3
   },
   "file_extension": ".py",
   "mimetype": "text/x-python",
   "name": "python",
   "nbconvert_exporter": "python",
   "pygments_lexer": "ipython3",
   "version": "3.11.9"
  }
 },
 "nbformat": 4,
 "nbformat_minor": 5
}
