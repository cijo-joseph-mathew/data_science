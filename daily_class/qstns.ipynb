{
 "cells": [
  {
   "cell_type": "code",
   "execution_count": 5,
   "id": "a24c19a1",
   "metadata": {},
   "outputs": [
    {
     "name": "stdout",
     "output_type": "stream",
     "text": [
      "error!! zero cannot be denomenator\n"
     ]
    }
   ],
   "source": [
    "def div(n3,n4):\n",
    "    if n4==0:\n",
    "        print('error!! zero cannot be denomenator')\n",
    "    else:\n",
    "        return n3/n4\n",
    "n3=int(input('rnter the first number'))\n",
    "n4=int(input('enter the second number'))\n",
    "div(n3,n4)\n",
    "\n",
    "    \n"
   ]
  },
  {
   "cell_type": "code",
   "execution_count": 10,
   "id": "3e7d1872",
   "metadata": {},
   "outputs": [
    {
     "data": {
      "text/plain": [
       "(4, 5)"
      ]
     },
     "execution_count": 10,
     "metadata": {},
     "output_type": "execute_result"
    }
   ],
   "source": [
    "def swap(a,b):\n",
    "    c=a\n",
    "    a=b\n",
    "    b=c\n",
    "    return a,b\n",
    "a=int(input('enter the first number'))\n",
    "b=int(input('enter the second number'))\n",
    "swap(a,b)\n"
   ]
  },
  {
   "cell_type": "code",
   "execution_count": 19,
   "id": "0349ec8b",
   "metadata": {},
   "outputs": [
    {
     "data": {
      "text/plain": [
       "'zero'"
      ]
     },
     "execution_count": 19,
     "metadata": {},
     "output_type": "execute_result"
    }
   ],
   "source": [
    "def check(n):\n",
    "    if n>0:\n",
    "        print(n, 'is positive and')\n",
    "        if n%2==0:\n",
    "            return 'Even' \n",
    "        else:\n",
    "            return 'odd'\n",
    "    elif n<0:\n",
    "        return 'negative'\n",
    "    else:\n",
    "        return 'zero'\n",
    "n=int(input('enter the number'))\n",
    "check(n)\n"
   ]
  },
  {
   "cell_type": "code",
   "execution_count": 21,
   "id": "499323d9",
   "metadata": {},
   "outputs": [
    {
     "data": {
      "text/plain": [
       "'not leap year'"
      ]
     },
     "execution_count": 21,
     "metadata": {},
     "output_type": "execute_result"
    }
   ],
   "source": [
    "def leap(n):\n",
    "    if n%100==0 and n%400==0:\n",
    "        return 'leap year'\n",
    "    elif n%100!=0 and n%4==0:\n",
    "        return 'leap year'\n",
    "    else:\n",
    "        return 'not leap year'\n",
    "n=int(input('enter a year'))\n",
    "leap(n)"
   ]
  },
  {
   "cell_type": "code",
   "execution_count": 37,
   "id": "5af63433",
   "metadata": {},
   "outputs": [
    {
     "data": {
      "text/plain": [
       "'prime'"
      ]
     },
     "execution_count": 37,
     "metadata": {},
     "output_type": "execute_result"
    }
   ],
   "source": [
    "def prime(n):\n",
    "    flag = False\n",
    "    if n<=1:\n",
    "        print(\"Not a prime number\")\n",
    "    elif n==2:\n",
    "        print('prime number')\n",
    "    else:\n",
    "        for i in range(3,n):\n",
    "            if n%i==0:\n",
    "                # print(\"Not a prime number\")\n",
    "                flag = True\n",
    "                break\n",
    "            # else:\n",
    "            #     print(\"Prime number\")\n",
    "\n",
    "    if flag == True:\n",
    "        return'not prime'\n",
    "    else:\n",
    "        return 'prime'\n",
    "\n",
    "\n",
    "n=int(input('enter a number'))\n",
    "prime(n)\n",
    "\n",
    "    \n"
   ]
  },
  {
   "cell_type": "code",
   "execution_count": 2,
   "id": "ef1c475b",
   "metadata": {},
   "outputs": [
    {
     "name": "stdout",
     "output_type": "stream",
     "text": [
      "1 * 4 = 4\n",
      "2 * 4 = 8\n",
      "3 * 4 = 12\n",
      "4 * 4 = 16\n",
      "5 * 4 = 20\n",
      "6 * 4 = 24\n",
      "7 * 4 = 28\n",
      "8 * 4 = 32\n",
      "9 * 4 = 36\n",
      "10 * 4 = 40\n"
     ]
    }
   ],
   "source": [
    "def mul(n):\n",
    "    for i in range(1,11):\n",
    "        print(i,'*',n,'=',i*n)\n",
    "\n",
    "n=int(input('enter the number for multiplication'))\n",
    "mul(n)\n"
   ]
  },
  {
   "cell_type": "code",
   "execution_count": null,
   "id": "4eee09c4",
   "metadata": {},
   "outputs": [],
   "source": []
  },
  {
   "cell_type": "code",
   "execution_count": null,
   "id": "1fdb0bd8",
   "metadata": {},
   "outputs": [],
   "source": [
    "def fibo(n):\n",
    "    a,b=0,1\n",
    "    for i in range(n):\n",
    "        print(a,end=' ')\n",
    "        a,b=b,a+b\n",
    "num = int(input(\"Enter number of terms: \"))\n",
    "print(\"Fibonacci series:\")\n",
    "fibo(num)\n"
   ]
  },
  {
   "cell_type": "code",
   "execution_count": 18,
   "id": "bf10881a",
   "metadata": {},
   "outputs": [
    {
     "data": {
      "text/plain": [
       "'is amstrong number'"
      ]
     },
     "execution_count": 18,
     "metadata": {},
     "output_type": "execute_result"
    }
   ],
   "source": [
    "def amstrong(n):\n",
    "    temp=n\n",
    "    r=0\n",
    "    while n>0:\n",
    "        d=n%10\n",
    "        r+=d  **len(str(temp))\n",
    "        n//=10\n",
    "    if r==temp:\n",
    "        return 'is amstrong number'\n",
    "\n",
    "    else:\n",
    "        return 'not amstrong'\n",
    "n=int(input('enter the number'))\n",
    "amstrong(n)\n"
   ]
  },
  {
   "cell_type": "code",
   "execution_count": 22,
   "id": "5d9c4547",
   "metadata": {},
   "outputs": [
    {
     "name": "stdout",
     "output_type": "stream",
     "text": [
      "amstrong numbers between 10 and 1000 are:\n",
      "153\n",
      "370\n",
      "371\n",
      "407\n"
     ]
    }
   ],
   "source": [
    "def amstrong(n):\n",
    "    temp=n\n",
    "    r=0\n",
    "    while n>0:\n",
    "        d=n%10\n",
    "        r+=d  **len(str(temp))\n",
    "        n//=10\n",
    "    \n",
    "    if temp==r:\n",
    "        return temp \n",
    "\n",
    "\n",
    "\n",
    "s=int(input('enter the starting point'))\n",
    "e=int(input('enter the end point'))\n",
    "print(f'amstrong numbers between {s} and {e} are:')\n",
    "for i in range(s,e):\n",
    "    if amstrong(i):\n",
    "        print(i)"
   ]
  },
  {
   "cell_type": "code",
   "execution_count": null,
   "id": "9adcf696",
   "metadata": {},
   "outputs": [
    {
     "name": "stdout",
     "output_type": "stream",
     "text": [
      "LCM of 12 and 12 is 12\n"
     ]
    }
   ],
   "source": []
  },
  {
   "cell_type": "code",
   "execution_count": 3,
   "id": "bfbae3e5",
   "metadata": {},
   "outputs": [
    {
     "name": "stdout",
     "output_type": "stream",
     "text": [
      "LCM of 20 and 22 is 220\n"
     ]
    }
   ],
   "source": [
    "def lcm(a, b):\n",
    "    multiple = max(a, b)\n",
    "    step = multiple\n",
    "    while multiple % a != 0 or multiple % b != 0:\n",
    "        multiple += step\n",
    "    return multiple\n",
    "\n",
    "num1 = int(input(\"Enter first number: \"))\n",
    "num2 = int(input(\"Enter second number: \"))\n",
    "\n",
    "result = lcm(num1, num2)\n",
    "print(f\"LCM of {num1} and {num2} is {result}\")\n"
   ]
  },
  {
   "cell_type": "code",
   "execution_count": 5,
   "id": "35368e54",
   "metadata": {},
   "outputs": [
    {
     "name": "stdout",
     "output_type": "stream",
     "text": [
      "LCM of 12 and 8 is 24\n"
     ]
    }
   ],
   "source": [
    "def hcf(a,b):\n",
    "    com=min(a,b)\n",
    "    step=com\n",
    "    while com%a!=0 or com%b!=0:\n",
    "        com+=step\n",
    "    return com\n",
    "num1 = int(input(\"Enter first number: \"))\n",
    "num2 = int(input(\"Enter second number: \"))\n",
    "\n",
    "result = lcm(num1, num2)\n",
    "print(f\"LCM of {num1} and {num2} is {result}\")\n"
   ]
  },
  {
   "cell_type": "code",
   "execution_count": 8,
   "id": "65b28800",
   "metadata": {},
   "outputs": [
    {
     "name": "stdout",
     "output_type": "stream",
     "text": [
      "Fibonacci series:\n",
      "0 1 1 2 3 "
     ]
    }
   ],
   "source": [
    "def fibo(n):\n",
    "    if n <= 1:\n",
    "        return n\n",
    "    else:\n",
    "        return fibo(n-1) + fibo(n-2)\n",
    "\n",
    "n= int(input(\"Enter number of terms: \"))\n",
    "print(\"Fibonacci series:\")\n",
    "for i in range(n):\n",
    "    print(fibo(i),end=\" \")\n"
   ]
  },
  {
   "cell_type": "code",
   "execution_count": 12,
   "id": "0b82b7fc",
   "metadata": {},
   "outputs": [
    {
     "name": "stdout",
     "output_type": "stream",
     "text": [
      "Largest element is: 99\n"
     ]
    }
   ],
   "source": [
    "def find(n):\n",
    "    largest = n[0]\n",
    "    for num in n[1:]:\n",
    "        if num > largest:\n",
    "            largest = num\n",
    "    return largest\n",
    "\n",
    "numbers = [10,20,30,99]\n",
    "print(\"Largest element is:\", find(numbers))"
   ]
  },
  {
   "cell_type": "code",
   "execution_count": null,
   "id": "8eb57d5f",
   "metadata": {},
   "outputs": [
    {
     "name": "stdout",
     "output_type": "stream",
     "text": [
      "Largest element is: 4\n"
     ]
    }
   ],
   "source": [
    "def find(n):\n",
    "    l=max(l1)\n",
    "    return l\n",
    "l1=[10,20,30,99]\n",
    "print(\"Largest element is:\", find(l1))"
   ]
  },
  {
   "cell_type": "code",
   "execution_count": null,
   "id": "6b6718b8",
   "metadata": {},
   "outputs": [],
   "source": [
    "def find(n):\n",
    "    l=max(l1)\n",
    "    return l\n",
    "l1=list(input('enter a list of elements'))\n",
    "print(\"Largest element is:\", find(l1))"
   ]
  }
 ],
 "metadata": {
  "kernelspec": {
   "display_name": "Python 3",
   "language": "python",
   "name": "python3"
  },
  "language_info": {
   "codemirror_mode": {
    "name": "ipython",
    "version": 3
   },
   "file_extension": ".py",
   "mimetype": "text/x-python",
   "name": "python",
   "nbconvert_exporter": "python",
   "pygments_lexer": "ipython3",
   "version": "3.11.9"
  }
 },
 "nbformat": 4,
 "nbformat_minor": 5
}
