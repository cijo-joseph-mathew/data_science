{
 "cells": [
  {
   "cell_type": "code",
   "execution_count": 6,
   "id": "8c138cba",
   "metadata": {},
   "outputs": [
    {
     "name": "stdout",
     "output_type": "stream",
     "text": [
      "Hello world\n"
     ]
    }
   ],
   "source": [
    "print(\"Hello world\")"
   ]
  },
  {
   "cell_type": "code",
   "execution_count": 7,
   "id": "08f42a24",
   "metadata": {},
   "outputs": [
    {
     "name": "stdout",
     "output_type": "stream",
     "text": [
      "cijo\n"
     ]
    },
    {
     "data": {
      "text/plain": [
       "str"
      ]
     },
     "execution_count": 7,
     "metadata": {},
     "output_type": "execute_result"
    }
   ],
   "source": [
    "name=\"cijo\"\n",
    "print(name)\n",
    "type(name)"
   ]
  },
  {
   "cell_type": "code",
   "execution_count": 8,
   "id": "0cb1c630",
   "metadata": {},
   "outputs": [
    {
     "name": "stdout",
     "output_type": "stream",
     "text": [
      " this is a \n",
      "paragraph\n"
     ]
    }
   ],
   "source": [
    "para= ''' this is a \n",
    "paragraph'''\n",
    "print(para)"
   ]
  },
  {
   "cell_type": "markdown",
   "id": "c855dc0c",
   "metadata": {},
   "source": [
    "# typecasting\n"
   ]
  },
  {
   "cell_type": "code",
   "execution_count": null,
   "id": "1c594005",
   "metadata": {},
   "outputs": [
    {
     "name": "stdout",
     "output_type": "stream",
     "text": [
      "<class 'int'>\n",
      "<class 'float'>\n",
      "<class 'str'>\n",
      "<class 'complex'>\n",
      "<class 'bool'>\n"
     ]
    }
   ],
   "source": [
    "a=6\n",
    "b=3.5\n",
    "c='abc'\n",
    "d=2+2j\n",
    "e=True\n",
    "print(type(a))\n",
    "print(type(b))\n",
    "print(type(c))\n",
    "print(type(d))\n",
    "print(type(e))\n"
   ]
  },
  {
   "cell_type": "code",
   "execution_count": 13,
   "id": "fe7be00e",
   "metadata": {},
   "outputs": [
    {
     "data": {
      "text/plain": [
       "6.0"
      ]
     },
     "execution_count": 13,
     "metadata": {},
     "output_type": "execute_result"
    }
   ],
   "source": [
    "float(a)"
   ]
  },
  {
   "cell_type": "code",
   "execution_count": 14,
   "id": "b8dabdce",
   "metadata": {},
   "outputs": [
    {
     "data": {
      "text/plain": [
       "1"
      ]
     },
     "execution_count": 14,
     "metadata": {},
     "output_type": "execute_result"
    }
   ],
   "source": [
    "int(e)"
   ]
  },
  {
   "cell_type": "code",
   "execution_count": 15,
   "id": "11880724",
   "metadata": {},
   "outputs": [
    {
     "data": {
      "text/plain": [
       "1.0"
      ]
     },
     "execution_count": 15,
     "metadata": {},
     "output_type": "execute_result"
    }
   ],
   "source": [
    "float(e)"
   ]
  },
  {
   "cell_type": "code",
   "execution_count": 16,
   "id": "17a632b1",
   "metadata": {},
   "outputs": [
    {
     "data": {
      "text/plain": [
       "(3+5j)"
      ]
     },
     "execution_count": 16,
     "metadata": {},
     "output_type": "execute_result"
    }
   ],
   "source": [
    "complex(3,5)"
   ]
  },
  {
   "cell_type": "markdown",
   "id": "5e7f4937",
   "metadata": {},
   "source": [
    "# arithmeticoperators"
   ]
  },
  {
   "cell_type": "code",
   "execution_count": 18,
   "id": "7b3fc9ab",
   "metadata": {},
   "outputs": [
    {
     "name": "stdout",
     "output_type": "stream",
     "text": [
      "10\n",
      "2\n",
      "24\n",
      "1.5\n",
      "2\n",
      "1296\n",
      "1\n"
     ]
    }
   ],
   "source": [
    "x,y=6,4\n",
    "print(x+y)\n",
    "print(x-y)\n",
    "print(x*y)\n",
    "print(x/y)\n",
    "print(x%y)\n",
    "print(x**y)\n",
    "print(x//y)"
   ]
  },
  {
   "cell_type": "code",
   "execution_count": 20,
   "id": "6bddb427",
   "metadata": {},
   "outputs": [
    {
     "name": "stdout",
     "output_type": "stream",
     "text": [
      "cijo joseph\n"
     ]
    }
   ],
   "source": [
    "name='cijo'\n",
    "surname='joseph'\n",
    "print(name+\" \"+surname)"
   ]
  },
  {
   "cell_type": "markdown",
   "id": "d466cce1",
   "metadata": {},
   "source": [
    "# relational operators"
   ]
  },
  {
   "cell_type": "code",
   "execution_count": 21,
   "id": "fbb45515",
   "metadata": {},
   "outputs": [
    {
     "name": "stdout",
     "output_type": "stream",
     "text": [
      "False\n",
      "True\n",
      "False\n",
      "True\n",
      "False\n",
      "True\n"
     ]
    }
   ],
   "source": [
    "a=12\n",
    "b=15\n",
    "print(a>b)\n",
    "print(a<b)\n",
    "print(a>=b)\n",
    "print(a<=b)\n",
    "print(a==b)\n",
    "print(a!=b)"
   ]
  },
  {
   "cell_type": "markdown",
   "id": "44ce8736",
   "metadata": {},
   "source": [
    " # assignment operators"
   ]
  },
  {
   "cell_type": "code",
   "execution_count": 22,
   "id": "8a359726",
   "metadata": {},
   "outputs": [
    {
     "name": "stdout",
     "output_type": "stream",
     "text": [
      "2\n"
     ]
    }
   ],
   "source": [
    "a=1\n",
    "a+=1\n",
    "print(a)"
   ]
  },
  {
   "cell_type": "markdown",
   "id": "885730ea",
   "metadata": {},
   "source": [
    "# logical "
   ]
  },
  {
   "cell_type": "code",
   "execution_count": 30,
   "id": "b577a6a5",
   "metadata": {},
   "outputs": [
    {
     "name": "stdout",
     "output_type": "stream",
     "text": [
      "False\n",
      "True\n",
      "True\n"
     ]
    }
   ],
   "source": [
    "a=2\n",
    "b=3\n",
    "print(a>0 and b<0)\n",
    "print(a>0 or b<0)\n",
    "print(not(a>b))"
   ]
  },
  {
   "cell_type": "markdown",
   "id": "97540177",
   "metadata": {},
   "source": [
    "# membership"
   ]
  },
  {
   "cell_type": "code",
   "execution_count": 35,
   "id": "3bb5bcd2",
   "metadata": {},
   "outputs": [
    {
     "data": {
      "text/plain": [
       "False"
      ]
     },
     "execution_count": 35,
     "metadata": {},
     "output_type": "execute_result"
    }
   ],
   "source": [
    "list=[1,2,3,4,5,6]\n",
    "num=4\n",
    "num in list\n",
    "num not in list\n"
   ]
  },
  {
   "cell_type": "markdown",
   "id": "1827199d",
   "metadata": {},
   "source": [
    "# identity"
   ]
  },
  {
   "cell_type": "code",
   "execution_count": 36,
   "id": "13d7598e",
   "metadata": {},
   "outputs": [
    {
     "name": "stdout",
     "output_type": "stream",
     "text": [
      "False\n",
      "True\n",
      "True\n"
     ]
    }
   ],
   "source": [
    "x,y,z=1,2,1\n",
    "print(x is y)\n",
    "print(x is z)\n",
    "print(x is not y)"
   ]
  },
  {
   "cell_type": "markdown",
   "id": "aa2a41da",
   "metadata": {},
   "source": [
    "# conditional statements"
   ]
  },
  {
   "cell_type": "code",
   "execution_count": 43,
   "id": "31524caa",
   "metadata": {},
   "outputs": [
    {
     "name": "stdout",
     "output_type": "stream",
     "text": [
      "6  is larger\n"
     ]
    }
   ],
   "source": [
    "a=5\n",
    "b=6\n",
    "if a>b:\n",
    "    print(a,' is larger')\n",
    "elif a<b:\n",
    "    print(b, ' is larger')\n",
    "else:\n",
    "    print('both are same')    "
   ]
  },
  {
   "cell_type": "code",
   "execution_count": 44,
   "id": "dbdca1f4",
   "metadata": {},
   "outputs": [
    {
     "name": "stdout",
     "output_type": "stream",
     "text": [
      "16\n"
     ]
    }
   ],
   "source": [
    "a=int(input('enter a number'))\n",
    "if a>0:\n",
    "    print(a*a)\n",
    "else:\n",
    "    print(a)"
   ]
  },
  {
   "cell_type": "code",
   "execution_count": 45,
   "id": "eb2b9a0f",
   "metadata": {},
   "outputs": [
    {
     "name": "stdout",
     "output_type": "stream",
     "text": [
      "not square\n"
     ]
    }
   ],
   "source": [
    "l=int(input('enter length'))\n",
    "b=int(input('enter breadth'))\n",
    "if l==b:\n",
    "    print('square')\n",
    "else:\n",
    "    print('not square')    "
   ]
  },
  {
   "cell_type": "code",
   "execution_count": 1,
   "id": "2a955cc6",
   "metadata": {},
   "outputs": [
    {
     "name": "stdout",
     "output_type": "stream",
     "text": [
      "bonus is  50.0\n"
     ]
    }
   ],
   "source": [
    "yr=int(input('enter the years of service'))\n",
    "slry=int(input('enter the salary'))\n",
    "if yr>5:\n",
    "    bonus=slry*5/100\n",
    "    print('bonus is ',bonus)\n",
    "else:\n",
    "    print('no bonus')"
   ]
  },
  {
   "cell_type": "code",
   "execution_count": 2,
   "id": "d3179ec4",
   "metadata": {},
   "outputs": [
    {
     "name": "stdout",
     "output_type": "stream",
     "text": [
      "4 is even\n"
     ]
    }
   ],
   "source": [
    "a=int(input('enter first number'))\n",
    "if a%2==0:\n",
    "  print(a, 'is even')\n",
    "else:\n",
    "    print(a,'is odd')"
   ]
  },
  {
   "cell_type": "code",
   "execution_count": 3,
   "id": "0031d242",
   "metadata": {},
   "outputs": [
    {
     "name": "stdout",
     "output_type": "stream",
     "text": [
      "4 is larger than 3\n"
     ]
    }
   ],
   "source": [
    "a=input('enter first number')\n",
    "b=input('enter second number')\n",
    "if a>b:\n",
    "    print(a,'is larger than',b)\n",
    "else:\n",
    "    print(b,'is larger than',a)"
   ]
  },
  {
   "cell_type": "code",
   "execution_count": 4,
   "id": "caa4b02e",
   "metadata": {},
   "outputs": [
    {
     "name": "stdout",
     "output_type": "stream",
     "text": [
      "B\n"
     ]
    }
   ],
   "source": [
    "p = int(input(\"enter physics mark\"))\n",
    "m = int(input(\"enter maths mark\"))\n",
    "e = int(input(\"enter english mark\"))\n",
    "i = int(input(\"enter IT mark\"))\n",
    "b = int(input(\"enter biology mark\"))\n",
    "t=p+m+e+i+b\n",
    "per=t*100/500\n",
    "if per>=80:\n",
    "    print('A')\n",
    "elif per<80 and per<=60:\n",
    "    print('B')\n",
    "elif per<60 and per>=50:\n",
    "    print('C')\n",
    "elif per<50 and per>=45:\n",
    "    print('D')\n",
    "elif per<45 and per>=5:\n",
    "    print('e')\n",
    "else:\n",
    "    print('you are failed')\n"
   ]
  },
  {
   "cell_type": "code",
   "execution_count": 5,
   "id": "ff123c34",
   "metadata": {},
   "outputs": [
    {
     "name": "stdout",
     "output_type": "stream",
     "text": [
      "26 is oldest\n"
     ]
    }
   ],
   "source": [
    "a=int(input('enter the first age'))\n",
    "b=int(input('enter the second age'))\n",
    "c=int(input('enter the third age'))\n",
    "if a>b:\n",
    "    if a>c:\n",
    "        print(a, 'is oldest')\n",
    "    else:\n",
    "        print(c, 'is oldest')\n",
    "else:\n",
    "    if b>c:\n",
    "        print(b, 'is the oldest')\n",
    "    else:\n",
    "        print(c,'is oldest')"
   ]
  },
  {
   "cell_type": "code",
   "execution_count": 6,
   "id": "d1aeaaa3",
   "metadata": {},
   "outputs": [
    {
     "name": "stdout",
     "output_type": "stream",
     "text": [
      "elgible\n"
     ]
    }
   ],
   "source": [
    "h=int(input('enter the number of classes held'))\n",
    "a=int(input('enter the number of classes attended'))\n",
    "p=a/h*100\n",
    "if p>=75:\n",
    "    print('elgible')\n",
    "else:\n",
    "    print('not eligible')"
   ]
  }
 ],
 "metadata": {
  "kernelspec": {
   "display_name": "Python 3",
   "language": "python",
   "name": "python3"
  },
  "language_info": {
   "codemirror_mode": {
    "name": "ipython",
    "version": 3
   },
   "file_extension": ".py",
   "mimetype": "text/x-python",
   "name": "python",
   "nbconvert_exporter": "python",
   "pygments_lexer": "ipython3",
   "version": "3.11.9"
  }
 },
 "nbformat": 4,
 "nbformat_minor": 5
}
