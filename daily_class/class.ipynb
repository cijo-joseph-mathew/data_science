{
 "cells": [
  {
   "cell_type": "code",
   "execution_count": 5,
   "id": "7d6088c2",
   "metadata": {},
   "outputs": [],
   "source": [
    "class student:\n",
    "    pass"
   ]
  },
  {
   "cell_type": "code",
   "execution_count": 6,
   "id": "beb496be",
   "metadata": {},
   "outputs": [],
   "source": [
    "student1=student()\n",
    "pass"
   ]
  },
  {
   "cell_type": "code",
   "execution_count": 7,
   "id": "32585f4a",
   "metadata": {},
   "outputs": [
    {
     "name": "stdout",
     "output_type": "stream",
     "text": [
      "<class '__main__.student'>\n"
     ]
    }
   ],
   "source": [
    "print(type(student1))"
   ]
  },
  {
   "cell_type": "code",
   "execution_count": null,
   "id": "84b8b495",
   "metadata": {},
   "outputs": [
    {
     "name": "stdout",
     "output_type": "stream",
     "text": [
      "cijo\n"
     ]
    }
   ],
   "source": [
    "class student :\n",
    "    def __init__(self,name,rollno,marks):\n",
    "        self.name=name\n",
    "        self.rollno=rollno\n",
    "        self.marks=marks\n",
    "s1=student('cijo',13,100)\n",
    "print(s1.name)"
   ]
  },
  {
   "cell_type": "code",
   "execution_count": 10,
   "id": "9e212ff7",
   "metadata": {},
   "outputs": [
    {
     "name": "stdout",
     "output_type": "stream",
     "text": [
      "cijo\n",
      "18\n"
     ]
    }
   ],
   "source": [
    "class person :\n",
    "    def __init__(self,name,age):\n",
    "        self.name=name\n",
    "        self.age=age\n",
    "s1=person('cijo',18)\n",
    "print(s1.name)\n",
    "print(s1.age)"
   ]
  },
  {
   "cell_type": "code",
   "execution_count": 11,
   "id": "87f3676c",
   "metadata": {},
   "outputs": [
    {
     "name": "stdout",
     "output_type": "stream",
     "text": [
      "cijo\n"
     ]
    }
   ],
   "source": [
    "class person :\n",
    "    def __init__(self,name):\n",
    "        self.name=name\n",
    "    def prntname(self):  \n",
    "        print(self.name)\n",
    "s1=person('cijo')\n",
    "print(s1.name)"
   ]
  },
  {
   "cell_type": "code",
   "execution_count": 12,
   "id": "b9d9808c",
   "metadata": {},
   "outputs": [
    {
     "name": "stdout",
     "output_type": "stream",
     "text": [
      "cijo\n"
     ]
    }
   ],
   "source": [
    "s1.prntname()"
   ]
  },
  {
   "cell_type": "code",
   "execution_count": 14,
   "id": "29e94137",
   "metadata": {},
   "outputs": [
    {
     "name": "stdout",
     "output_type": "stream",
     "text": [
      "student cijo studying\n",
      "student 13 is playing\n"
     ]
    }
   ],
   "source": [
    "class student:\n",
    "    def __init__(self,name,rollno,marks):\n",
    "        self.name=name\n",
    "        self.rollno=rollno\n",
    "        self.marks=marks\n",
    "    def study(self):\n",
    "        print(f'student {self.name} studying')\n",
    "    def play(self):\n",
    "        print(f'student {self.rollno} is playing')\n",
    "s1=student('cijo',13,100)\n",
    "s1.study()\n",
    "s1.play()\n"
   ]
  },
  {
   "cell_type": "code",
   "execution_count": 20,
   "id": "06755b19",
   "metadata": {},
   "outputs": [
    {
     "ename": "AttributeError",
     "evalue": "'student' object has no attribute '__marks'",
     "output_type": "error",
     "traceback": [
      "\u001b[31m---------------------------------------------------------------------------\u001b[39m",
      "\u001b[31mAttributeError\u001b[39m                            Traceback (most recent call last)",
      "\u001b[36mCell\u001b[39m\u001b[36m \u001b[39m\u001b[32mIn[20]\u001b[39m\u001b[32m, line 7\u001b[39m\n\u001b[32m      5\u001b[39m         \u001b[38;5;28mself\u001b[39m.__marks=marks\n\u001b[32m      6\u001b[39m s1=student(\u001b[33m'\u001b[39m\u001b[33mcijo\u001b[39m\u001b[33m'\u001b[39m,\u001b[32m13\u001b[39m,\u001b[32m100\u001b[39m)\n\u001b[32m----> \u001b[39m\u001b[32m7\u001b[39m \u001b[43ms1\u001b[49m\u001b[43m.\u001b[49m\u001b[43m__marks\u001b[49m\n",
      "\u001b[31mAttributeError\u001b[39m: 'student' object has no attribute '__marks'"
     ]
    }
   ],
   "source": [
    "class student :\n",
    "    def __init__(self,name,rollno,marks):\n",
    "        self.name=name\n",
    "        self.rollno=rollno\n",
    "        self.__marks=marks\n",
    "s1=student('cijo',13,100)\n",
    "s1.__marks\n"
   ]
  },
  {
   "cell_type": "code",
   "execution_count": null,
   "id": "1a64c6a3",
   "metadata": {},
   "outputs": [
    {
     "name": "stdout",
     "output_type": "stream",
     "text": [
      "2.0\n"
     ]
    }
   ],
   "source": [
    "class calculator:\n",
    "    def __init__(self,a,b):\n",
    "        self.a=a\n",
    "        self.b=b\n",
    "    def add1(self):\n",
    "        return self.a+self.b\n",
    "    def sub(self):\n",
    "        return self.a-self.b\n",
    "    def mul(self):\n",
    "        return self.a*self.b\n",
    "    def div(self):\n",
    "        return self.a/self.b\n",
    "a=int(input('enter the first number'))\n",
    "b=int(input('enter the second number'))\n",
    "# print(calc.add1())\n",
    "# print(calc.sub())\n",
    "# print(calc.mul())\n",
    "# print(calc.div())\n",
    "choice=int(input('enter your choice : 1-add,2-substract,3-multiplication,4-division'))\n",
    "calc=calculator(a,b)\n",
    "if choice==1:\n",
    "    print(calc.add1())\n",
    "if choice==2:\n",
    "    print(calc.sub())\n",
    "if choice==3:\n",
    "    print(calc.mul())\n",
    "if choice==4:\n",
    "    print(calc.div())\n",
    "\n",
    "        \n",
    "        "
   ]
  },
  {
   "cell_type": "code",
   "execution_count": 22,
   "id": "a076c4ba",
   "metadata": {},
   "outputs": [
    {
     "name": "stdout",
     "output_type": "stream",
     "text": [
      "p logged in\n"
     ]
    }
   ],
   "source": [
    "class user:\n",
    "    def __init__(self,name,id,age,passcode):\n",
    "        self.name=name\n",
    "        self.id=id\n",
    "        self.age=age\n",
    "        self.passcode=passcode\n",
    "    def login(self):\n",
    "        print('p logged in')\n",
    "    def logut(self):\n",
    "        print('p logged out')\n",
    "\n",
    "\n",
    "class student(user):\n",
    "    def __init__(self,marks,rollno, name, id, age, passcode):\n",
    "        self.marks=marks\n",
    "        self.rollno=rollno\n",
    "        super().__init__(name, id, age, passcode)\n",
    "        # print(super().login())\n",
    "\n",
    "\n",
    "    def study(self):\n",
    "        super().login()\n",
    "        \n",
    "    s1=student(100,13,'cijo',123,18,'0000')\n",
    "\n",
    "    s1.study()\n",
    "        "
   ]
  },
  {
   "cell_type": "code",
   "execution_count": 24,
   "id": "d723cae2",
   "metadata": {},
   "outputs": [
    {
     "name": "stdout",
     "output_type": "stream",
     "text": [
      "bark\n",
      "some sound\n"
     ]
    }
   ],
   "source": [
    "class animal:\n",
    "    def sound(self):\n",
    "        return 'some sound'\n",
    "class dog(animal):\n",
    "    def sound(self):\n",
    "        return 'bark'\n",
    "obj=dog()\n",
    "print(obj.sound())\n",
    "obj1=animal()\n",
    "print(obj1.sound())"
   ]
  },
  {
   "cell_type": "code",
   "execution_count": null,
   "id": "424c256b",
   "metadata": {},
   "outputs": [],
   "source": []
  }
 ],
 "metadata": {
  "kernelspec": {
   "display_name": "Python 3",
   "language": "python",
   "name": "python3"
  },
  "language_info": {
   "codemirror_mode": {
    "name": "ipython",
    "version": 3
   },
   "file_extension": ".py",
   "mimetype": "text/x-python",
   "name": "python",
   "nbconvert_exporter": "python",
   "pygments_lexer": "ipython3",
   "version": "3.11.9"
  }
 },
 "nbformat": 4,
 "nbformat_minor": 5
}
