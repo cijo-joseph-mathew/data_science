{
 "cells": [
  {
   "cell_type": "code",
   "execution_count": 220,
   "id": "60414b40",
   "metadata": {},
   "outputs": [
    {
     "name": "stdout",
     "output_type": "stream",
     "text": [
      "<class 'list'>\n",
      "<class 'tuple'>\n",
      "<class 'set'>\n",
      "<class 'dict'>\n"
     ]
    }
   ],
   "source": [
    "l=[1,2,'cijo','nirmal',2.5]\n",
    "t=(3,4,'aditya','rishana',4.45)\n",
    "s={5,6,5,7,6,'cijo','cijo','aditya','nirmal',5,5,45.67,'rishana'}\n",
    "d={'a':'apple','b':'ball','c':'cat'}\n",
    "print(type(l))\n",
    "print(type(t))\n",
    "print(type(s))\n",
    "print(type(d))\n",
    "\n"
   ]
  },
  {
   "cell_type": "code",
   "execution_count": 221,
   "id": "5700c06c",
   "metadata": {},
   "outputs": [
    {
     "name": "stdout",
     "output_type": "stream",
     "text": [
      "5\n"
     ]
    }
   ],
   "source": [
    "print(len(l))"
   ]
  },
  {
   "cell_type": "code",
   "execution_count": 222,
   "id": "23931708",
   "metadata": {},
   "outputs": [
    {
     "name": "stdout",
     "output_type": "stream",
     "text": [
      "1\n"
     ]
    }
   ],
   "source": [
    "print(l[0])"
   ]
  },
  {
   "cell_type": "code",
   "execution_count": 223,
   "id": "228c004d",
   "metadata": {},
   "outputs": [
    {
     "name": "stdout",
     "output_type": "stream",
     "text": [
      "[10, 'cijo', 'nirmal', 'rishana']\n"
     ]
    }
   ],
   "source": [
    "l1=[1,2,3,8,10,'cijo','nirmal','rishana']\n",
    "print(l1[4:])"
   ]
  },
  {
   "cell_type": "code",
   "execution_count": 224,
   "id": "e2c36c99",
   "metadata": {},
   "outputs": [
    {
     "name": "stdout",
     "output_type": "stream",
     "text": [
      "[1, 2, 3, 8, 10, 'cijo']\n"
     ]
    }
   ],
   "source": [
    "print(l1[:6])"
   ]
  },
  {
   "cell_type": "code",
   "execution_count": 225,
   "id": "09825249",
   "metadata": {},
   "outputs": [
    {
     "name": "stdout",
     "output_type": "stream",
     "text": [
      "[8, 10, 'cijo', 'nirmal']\n"
     ]
    }
   ],
   "source": [
    "print(l1[3:7])"
   ]
  },
  {
   "cell_type": "code",
   "execution_count": 226,
   "id": "7c11cd9f",
   "metadata": {},
   "outputs": [
    {
     "name": "stdout",
     "output_type": "stream",
     "text": [
      "[8, 10, 'cijo', 'nirmal']\n"
     ]
    }
   ],
   "source": [
    "print(l1[-5:-1])"
   ]
  },
  {
   "cell_type": "code",
   "execution_count": 227,
   "id": "2b673f39",
   "metadata": {},
   "outputs": [
    {
     "name": "stdout",
     "output_type": "stream",
     "text": [
      "[1, 2, 3, 8, 10, 'cijo', 'aditya', 'rishana']\n"
     ]
    }
   ],
   "source": [
    "l1[6]='aditya'\n",
    "print(l1)"
   ]
  },
  {
   "cell_type": "code",
   "execution_count": 228,
   "id": "3a770c2b",
   "metadata": {},
   "outputs": [
    {
     "name": "stdout",
     "output_type": "stream",
     "text": [
      "[1, 2, 3, 12, 14, 'cijo', 'aditya', 'rishana']\n"
     ]
    }
   ],
   "source": [
    "l1[3:5]=[12,14]\n",
    "print(l1)\n"
   ]
  },
  {
   "cell_type": "code",
   "execution_count": 229,
   "id": "0a971e51",
   "metadata": {},
   "outputs": [
    {
     "name": "stdout",
     "output_type": "stream",
     "text": [
      "[1, 12, 13, 14, 15, 'cijo', 'aditya', 'rishana']\n"
     ]
    }
   ],
   "source": [
    "l1[1:5]=[12,13,14,15]\n",
    "print(l1)"
   ]
  },
  {
   "cell_type": "code",
   "execution_count": 230,
   "id": "ffc2d16d",
   "metadata": {},
   "outputs": [
    {
     "name": "stdout",
     "output_type": "stream",
     "text": [
      "[1, 12, 13, 14, 15, 'cijo', 'aditya']\n"
     ]
    }
   ],
   "source": [
    "\n",
    "l1.remove('rishana')\n",
    "print(l1)"
   ]
  },
  {
   "cell_type": "markdown",
   "id": "d37f0621",
   "metadata": {},
   "source": [
    "# repetation"
   ]
  },
  {
   "cell_type": "code",
   "execution_count": 231,
   "id": "fb43f498",
   "metadata": {},
   "outputs": [
    {
     "name": "stdout",
     "output_type": "stream",
     "text": [
      "[1, 2, 3, 4]\n",
      "[1, 2, 3, 4, 1, 2, 3, 4]\n"
     ]
    }
   ],
   "source": [
    "l1=[1,2,3,4]\n",
    "a=l1*2\n",
    "print(l1)\n",
    "print(a)"
   ]
  },
  {
   "cell_type": "markdown",
   "id": "175967e8",
   "metadata": {},
   "source": [
    "# concatination "
   ]
  },
  {
   "cell_type": "code",
   "execution_count": 232,
   "id": "d4118a45",
   "metadata": {},
   "outputs": [
    {
     "name": "stdout",
     "output_type": "stream",
     "text": [
      "[1, 2, 3, 4, 5, 6, 7, 8]\n"
     ]
    }
   ],
   "source": [
    "l2=[5,6,7,8]\n",
    "print(l1+l2)"
   ]
  },
  {
   "cell_type": "code",
   "execution_count": 233,
   "id": "9f2cb54a",
   "metadata": {},
   "outputs": [
    {
     "name": "stdout",
     "output_type": "stream",
     "text": [
      "[1, 2, 3, 4, 'cijo']\n",
      "[1, 2, 3, 4, 'cijo', 'nirmal']\n"
     ]
    }
   ],
   "source": [
    "l1=[1,2,3,4,'cijo']\n",
    "print(l1)\n",
    "l1.append('nirmal')\n",
    "print(l1)"
   ]
  },
  {
   "cell_type": "code",
   "execution_count": 234,
   "id": "e4a6b755",
   "metadata": {},
   "outputs": [
    {
     "name": "stdout",
     "output_type": "stream",
     "text": [
      "[1, 2, 3, 4, 'cijo', 'nirmal', ['aditya', 'rishana']]\n"
     ]
    }
   ],
   "source": [
    "l1.append(['aditya','rishana'])\n",
    "print(l1)"
   ]
  },
  {
   "cell_type": "code",
   "execution_count": 235,
   "id": "849b752d",
   "metadata": {},
   "outputs": [
    {
     "name": "stdout",
     "output_type": "stream",
     "text": [
      "[1, 2, 3, 4, 'cijo', 'nirmal', ['aditya', 'rishana'], 'aditya', 'rishana']\n"
     ]
    }
   ],
   "source": [
    "\n",
    "l1.extend(['aditya','rishana'])\n",
    "print(l1)"
   ]
  },
  {
   "cell_type": "code",
   "execution_count": 236,
   "id": "99927ac7",
   "metadata": {},
   "outputs": [
    {
     "name": "stdout",
     "output_type": "stream",
     "text": [
      "[1, 2, 3, 4, 'cijo', 'nirmal', ['aditya', 'rishana'], 'aditya']\n"
     ]
    }
   ],
   "source": [
    "l1.pop()\n",
    "print(l1)"
   ]
  },
  {
   "cell_type": "code",
   "execution_count": 237,
   "id": "258a54f2",
   "metadata": {},
   "outputs": [
    {
     "name": "stdout",
     "output_type": "stream",
     "text": [
      "[1, 2, 3, 4, 'cijo', ['aditya', 'rishana'], 'aditya']\n"
     ]
    }
   ],
   "source": [
    "l1.pop(5)\n",
    "print(l1)"
   ]
  },
  {
   "cell_type": "code",
   "execution_count": 238,
   "id": "ef5c1936",
   "metadata": {},
   "outputs": [
    {
     "name": "stdout",
     "output_type": "stream",
     "text": [
      "[]\n"
     ]
    }
   ],
   "source": [
    "l1.clear()\n",
    "print(l1)"
   ]
  },
  {
   "cell_type": "code",
   "execution_count": 239,
   "id": "af8fff91",
   "metadata": {},
   "outputs": [],
   "source": [
    "del l1"
   ]
  },
  {
   "cell_type": "code",
   "execution_count": 240,
   "id": "2e84db36",
   "metadata": {},
   "outputs": [
    {
     "name": "stdout",
     "output_type": "stream",
     "text": [
      "[111, 1, 2, 3, 4, 'cijo', 'nirmal', 'aditya', 'rishana']\n"
     ]
    }
   ],
   "source": [
    "l1=[1, 2, 3, 4, 'cijo', 'nirmal', 'aditya', 'rishana']\n",
    "l1.insert(0,111)\n",
    "print(l1)"
   ]
  },
  {
   "cell_type": "code",
   "execution_count": 241,
   "id": "f79258f2",
   "metadata": {},
   "outputs": [
    {
     "name": "stdout",
     "output_type": "stream",
     "text": [
      "1\n",
      "2446552\n"
     ]
    }
   ],
   "source": [
    "l1=[1,2,6,7,44,33,2446552]\n",
    "print(min(l1))\n",
    "print(max(l1))\n"
   ]
  },
  {
   "cell_type": "code",
   "execution_count": 242,
   "id": "8d596b43",
   "metadata": {},
   "outputs": [
    {
     "name": "stdout",
     "output_type": "stream",
     "text": [
      "[8, 6, 5, 5, 3, 3, 1]\n"
     ]
    }
   ],
   "source": [
    "l1=[5,3,6,8,3,5,1]\n",
    "l1.sort(reverse=True)\n",
    "print(l1)"
   ]
  },
  {
   "cell_type": "code",
   "execution_count": 243,
   "id": "307451b7",
   "metadata": {},
   "outputs": [
    {
     "name": "stdout",
     "output_type": "stream",
     "text": [
      "[1, 2, 3, 4, 5, 6]\n"
     ]
    }
   ],
   "source": [
    "l1=[1,2,3,4,5,6]\n",
    "print(l1)"
   ]
  },
  {
   "cell_type": "code",
   "execution_count": 244,
   "id": "9ab105b6",
   "metadata": {},
   "outputs": [
    {
     "name": "stdout",
     "output_type": "stream",
     "text": [
      "[1, 2, 3, 4, 5, 6]\n"
     ]
    }
   ],
   "source": [
    "scopy=l1.copy()\n",
    "print(scopy)"
   ]
  },
  {
   "cell_type": "code",
   "execution_count": 245,
   "id": "d4c1bf8b",
   "metadata": {},
   "outputs": [
    {
     "name": "stdout",
     "output_type": "stream",
     "text": [
      "[1, 2, 3, 4, 5, 6]\n"
     ]
    }
   ],
   "source": [
    "import copy\n",
    "l1=[1,2,3,4,5,6]\n",
    "print(l1)\n"
   ]
  },
  {
   "cell_type": "code",
   "execution_count": 246,
   "id": "39a01aa2",
   "metadata": {},
   "outputs": [
    {
     "name": "stdout",
     "output_type": "stream",
     "text": [
      "[1, 2, 3, 4, 5, 6]\n"
     ]
    }
   ],
   "source": [
    "l2=copy.copy(l1)\n",
    "print(l2)"
   ]
  },
  {
   "cell_type": "code",
   "execution_count": 247,
   "id": "53e98c7a",
   "metadata": {},
   "outputs": [
    {
     "name": "stdout",
     "output_type": "stream",
     "text": [
      "[100, 2, 3, 4, 5, 6]\n"
     ]
    }
   ],
   "source": [
    "l2[0]=100\n",
    "print(l2)"
   ]
  },
  {
   "cell_type": "code",
   "execution_count": 248,
   "id": "bc0b15ae",
   "metadata": {},
   "outputs": [
    {
     "name": "stdout",
     "output_type": "stream",
     "text": [
      "[1, 2, 3, 4, 5, 6]\n"
     ]
    }
   ],
   "source": [
    "print(l1)"
   ]
  },
  {
   "cell_type": "code",
   "execution_count": 249,
   "id": "2b9c68b7",
   "metadata": {},
   "outputs": [
    {
     "name": "stdout",
     "output_type": "stream",
     "text": [
      "[7, 8, 9, 10]\n"
     ]
    }
   ],
   "source": [
    "l3=[7,8,9,10]\n",
    "print(l3)"
   ]
  },
  {
   "cell_type": "code",
   "execution_count": 250,
   "id": "482a09eb",
   "metadata": {},
   "outputs": [
    {
     "name": "stdout",
     "output_type": "stream",
     "text": [
      "[7, 8, 9, 10]\n"
     ]
    }
   ],
   "source": [
    "l4=copy.deepcopy(l3)\n",
    "print(l4)"
   ]
  },
  {
   "cell_type": "code",
   "execution_count": 251,
   "id": "e09576c4",
   "metadata": {},
   "outputs": [
    {
     "name": "stdout",
     "output_type": "stream",
     "text": [
      "[200, 8, 9, 10]\n",
      "[7, 8, 9, 10]\n"
     ]
    }
   ],
   "source": [
    "l4[0]=200\n",
    "print(l4)\n",
    "print(l3)"
   ]
  },
  {
   "cell_type": "markdown",
   "id": "9b6127c4",
   "metadata": {},
   "source": [
    "# copy"
   ]
  },
  {
   "cell_type": "code",
   "execution_count": 252,
   "id": "c0689098",
   "metadata": {},
   "outputs": [],
   "source": [
    "import copy\n"
   ]
  },
  {
   "cell_type": "code",
   "execution_count": 253,
   "id": "c754a06b",
   "metadata": {},
   "outputs": [
    {
     "name": "stdout",
     "output_type": "stream",
     "text": [
      "[1, 2, 3, 4, 5, 6]\n"
     ]
    }
   ],
   "source": [
    "l1=[1,2,3,4,5,6]\n",
    "print(l1)"
   ]
  },
  {
   "cell_type": "code",
   "execution_count": 254,
   "id": "9b4309af",
   "metadata": {},
   "outputs": [
    {
     "data": {
      "text/plain": [
       "[1, 2, 3, 4, 5, 6]"
      ]
     },
     "execution_count": 254,
     "metadata": {},
     "output_type": "execute_result"
    }
   ],
   "source": [
    "l2=copy.copy(l1)\n",
    "l2"
   ]
  },
  {
   "cell_type": "code",
   "execution_count": 255,
   "id": "87bcaec9",
   "metadata": {},
   "outputs": [
    {
     "data": {
      "text/plain": [
       "[100, 2, 3, 4, 5, 6]"
      ]
     },
     "execution_count": 255,
     "metadata": {},
     "output_type": "execute_result"
    }
   ],
   "source": [
    "l2[0]=100\n",
    "l2"
   ]
  },
  {
   "cell_type": "code",
   "execution_count": 256,
   "id": "e53dcd98",
   "metadata": {},
   "outputs": [
    {
     "data": {
      "text/plain": [
       "[1, 2, 3, 4, 5, 6]"
      ]
     },
     "execution_count": 256,
     "metadata": {},
     "output_type": "execute_result"
    }
   ],
   "source": [
    "l1"
   ]
  },
  {
   "cell_type": "code",
   "execution_count": 257,
   "id": "c5d27064",
   "metadata": {},
   "outputs": [
    {
     "name": "stdout",
     "output_type": "stream",
     "text": [
      "[1, 2, 3, 2, 4, 5, 6, 7, 1, 2, 3]\n",
      "[1, 2, 3, 4, 5, 6, 7]\n"
     ]
    }
   ],
   "source": [
    "l1=[1,2,3,2,4,5,6,7,1,2,3]\n",
    "print(l1)\n",
    "l2=[]\n",
    "for i in l1:\n",
    "    if i not in l2:\n",
    "        l2.append(i)\n",
    "print(l2)        \n",
    "\n"
   ]
  },
  {
   "cell_type": "markdown",
   "id": "bd8d2cbd",
   "metadata": {},
   "source": [
    "# Tuple"
   ]
  },
  {
   "cell_type": "code",
   "execution_count": 258,
   "id": "a558722b",
   "metadata": {},
   "outputs": [
    {
     "name": "stdout",
     "output_type": "stream",
     "text": [
      "(1, 2, 3.4, 'cijo', 34, 'nirmal')\n",
      "(1, 23, 3.4, 'cijo', 34, 'nirmal')\n"
     ]
    }
   ],
   "source": [
    "t1=(1,2,3.4,'cijo',34,'nirmal')\n",
    "print(t1)\n",
    "l1=list(t1)\n",
    "l1[1]=23\n",
    "t1=tuple(l1)\n",
    "print(t1)"
   ]
  },
  {
   "cell_type": "code",
   "execution_count": 259,
   "id": "a79ae6bd",
   "metadata": {},
   "outputs": [
    {
     "name": "stdout",
     "output_type": "stream",
     "text": [
      "6\n",
      "1\n",
      "(3.4, 'cijo', 34)\n",
      "False\n"
     ]
    }
   ],
   "source": [
    "print(len(t1))\n",
    "print(t1[0])\n",
    "print(t1[2:5])\n",
    "print(2 in t1)"
   ]
  },
  {
   "cell_type": "code",
   "execution_count": 260,
   "id": "75698b1c",
   "metadata": {},
   "outputs": [
    {
     "name": "stdout",
     "output_type": "stream",
     "text": [
      "(1, 23, 3.4, 'cijo', 34, 'nirmal', 4, 5, 4.3, 'aditya', 'rishana')\n"
     ]
    }
   ],
   "source": [
    "t2=(4,5,4.3,'aditya','rishana')\n",
    "print(t1+t2)"
   ]
  },
  {
   "cell_type": "markdown",
   "id": "b77b4d39",
   "metadata": {},
   "source": [
    "# set"
   ]
  },
  {
   "cell_type": "code",
   "execution_count": 261,
   "id": "75b8b611",
   "metadata": {},
   "outputs": [
    {
     "data": {
      "text/plain": [
       "[1, 2, 3, 4, 5, 6, 7, 8]"
      ]
     },
     "execution_count": 261,
     "metadata": {},
     "output_type": "execute_result"
    }
   ],
   "source": [
    "l1=[1,2,2,3,2,4,5,6,5,6,7,8,7,8]\n",
    "s=list(set(l1))\n",
    "s\n"
   ]
  },
  {
   "cell_type": "code",
   "execution_count": 262,
   "id": "00499159",
   "metadata": {},
   "outputs": [
    {
     "name": "stdout",
     "output_type": "stream",
     "text": [
      "<class 'set'>\n",
      "6\n",
      "{1, 2, 3, 4, 5, 6, 7, 8, 9}\n"
     ]
    }
   ],
   "source": [
    "s1={1,2,3,4,5,6}\n",
    "print(type(s1))\n",
    "print(len(s1))\n",
    "# print(s1[0])\n",
    "# print(s1[1])\n",
    "s1.add(7)\n",
    "s1.update([8,9])\n",
    "print(s1)\n"
   ]
  },
  {
   "cell_type": "code",
   "execution_count": 263,
   "id": "c26bb61c",
   "metadata": {},
   "outputs": [
    {
     "ename": "KeyError",
     "evalue": "7",
     "output_type": "error",
     "traceback": [
      "\u001b[31m---------------------------------------------------------------------------\u001b[39m",
      "\u001b[31mKeyError\u001b[39m                                  Traceback (most recent call last)",
      "\u001b[36mCell\u001b[39m\u001b[36m \u001b[39m\u001b[32mIn[263]\u001b[39m\u001b[32m, line 2\u001b[39m\n\u001b[32m      1\u001b[39m s1={\u001b[32m1\u001b[39m,\u001b[32m2\u001b[39m,\u001b[32m3\u001b[39m,\u001b[32m4\u001b[39m,\u001b[32m5\u001b[39m,\u001b[32m6\u001b[39m}\n\u001b[32m----> \u001b[39m\u001b[32m2\u001b[39m \u001b[43ms1\u001b[49m\u001b[43m.\u001b[49m\u001b[43mremove\u001b[49m\u001b[43m(\u001b[49m\u001b[32;43m7\u001b[39;49m\u001b[43m)\u001b[49m\n\u001b[32m      3\u001b[39m \u001b[38;5;28mprint\u001b[39m(s1)\n",
      "\u001b[31mKeyError\u001b[39m: 7"
     ]
    }
   ],
   "source": [
    "s1={1,2,3,4,5,6}\n",
    "s1.remove(7)\n",
    "print(s1)"
   ]
  },
  {
   "cell_type": "code",
   "execution_count": null,
   "id": "03e7d2bf",
   "metadata": {},
   "outputs": [
    {
     "data": {
      "text/plain": [
       "{1, 2, 3, 4, 5, 6}"
      ]
     },
     "execution_count": 45,
     "metadata": {},
     "output_type": "execute_result"
    }
   ],
   "source": [
    "s1.discard(7)\n",
    "s1"
   ]
  },
  {
   "cell_type": "code",
   "execution_count": null,
   "id": "4851c2e6",
   "metadata": {},
   "outputs": [
    {
     "ename": "TypeError",
     "evalue": "set.pop() takes no arguments (1 given)",
     "output_type": "error",
     "traceback": [
      "\u001b[31m---------------------------------------------------------------------------\u001b[39m",
      "\u001b[31mTypeError\u001b[39m                                 Traceback (most recent call last)",
      "\u001b[36mCell\u001b[39m\u001b[36m \u001b[39m\u001b[32mIn[58]\u001b[39m\u001b[32m, line 1\u001b[39m\n\u001b[32m----> \u001b[39m\u001b[32m1\u001b[39m \u001b[43ms1\u001b[49m\u001b[43m.\u001b[49m\u001b[43mpop\u001b[49m\u001b[43m(\u001b[49m\u001b[32;43m3\u001b[39;49m\u001b[43m)\u001b[49m\n\u001b[32m      2\u001b[39m s1\n",
      "\u001b[31mTypeError\u001b[39m: set.pop() takes no arguments (1 given)"
     ]
    }
   ],
   "source": [
    "s1.pop(3)\n",
    "s1"
   ]
  },
  {
   "cell_type": "code",
   "execution_count": null,
   "id": "e6a5eab8",
   "metadata": {},
   "outputs": [
    {
     "data": {
      "text/plain": [
       "set()"
      ]
     },
     "execution_count": 49,
     "metadata": {},
     "output_type": "execute_result"
    }
   ],
   "source": [
    "s1.clear()\n",
    "s1"
   ]
  },
  {
   "cell_type": "code",
   "execution_count": null,
   "id": "bf085517",
   "metadata": {},
   "outputs": [],
   "source": [
    "del s1\n"
   ]
  },
  {
   "cell_type": "code",
   "execution_count": null,
   "id": "1d365e22",
   "metadata": {},
   "outputs": [
    {
     "data": {
      "text/plain": [
       "{1, 2, 3, 4, 5, 6, 7, 8}"
      ]
     },
     "execution_count": 59,
     "metadata": {},
     "output_type": "execute_result"
    }
   ],
   "source": [
    "a={1,2,3,4,5}\n",
    "b={3,4,5,6,7,8}\n",
    "a|b"
   ]
  },
  {
   "cell_type": "code",
   "execution_count": null,
   "id": "9421d6a6",
   "metadata": {},
   "outputs": [
    {
     "data": {
      "text/plain": [
       "{1, 2, 3, 4, 5, 6, 7, 8}"
      ]
     },
     "execution_count": 60,
     "metadata": {},
     "output_type": "execute_result"
    }
   ],
   "source": [
    "a.union(b)"
   ]
  },
  {
   "cell_type": "code",
   "execution_count": null,
   "id": "70e09518",
   "metadata": {},
   "outputs": [
    {
     "data": {
      "text/plain": [
       "{3, 4, 5}"
      ]
     },
     "execution_count": 61,
     "metadata": {},
     "output_type": "execute_result"
    }
   ],
   "source": [
    "a&b"
   ]
  },
  {
   "cell_type": "code",
   "execution_count": null,
   "id": "cd9f11f6",
   "metadata": {},
   "outputs": [
    {
     "data": {
      "text/plain": [
       "{1, 2}"
      ]
     },
     "execution_count": 62,
     "metadata": {},
     "output_type": "execute_result"
    }
   ],
   "source": [
    "a-b"
   ]
  },
  {
   "cell_type": "code",
   "execution_count": null,
   "id": "4b988c70",
   "metadata": {},
   "outputs": [
    {
     "data": {
      "text/plain": [
       "{6, 7, 8}"
      ]
     },
     "execution_count": 63,
     "metadata": {},
     "output_type": "execute_result"
    }
   ],
   "source": [
    "b-a"
   ]
  },
  {
   "cell_type": "code",
   "execution_count": null,
   "id": "20959387",
   "metadata": {},
   "outputs": [
    {
     "data": {
      "text/plain": [
       "set()"
      ]
     },
     "execution_count": 65,
     "metadata": {},
     "output_type": "execute_result"
    }
   ],
   "source": [
    "s1={1,2,3,4}\n",
    "s2={1,2,3,4,5}\n",
    "s1-s2\n",
    "\n"
   ]
  },
  {
   "cell_type": "code",
   "execution_count": null,
   "id": "0f36d411",
   "metadata": {},
   "outputs": [
    {
     "data": {
      "text/plain": [
       "{5}"
      ]
     },
     "execution_count": 66,
     "metadata": {},
     "output_type": "execute_result"
    }
   ],
   "source": [
    "s2-s1"
   ]
  },
  {
   "cell_type": "code",
   "execution_count": null,
   "id": "a3e4a38e",
   "metadata": {},
   "outputs": [
    {
     "data": {
      "text/plain": [
       "{1, 2, 3, 5, 6, 7}"
      ]
     },
     "execution_count": 71,
     "metadata": {},
     "output_type": "execute_result"
    }
   ],
   "source": [
    "s1={5,6,7,2,1,3}\n",
    "s1"
   ]
  },
  {
   "cell_type": "code",
   "execution_count": null,
   "id": "d9bb6da3",
   "metadata": {},
   "outputs": [
    {
     "data": {
      "text/plain": [
       "{44, 55, 77, 88}"
      ]
     },
     "execution_count": 73,
     "metadata": {},
     "output_type": "execute_result"
    }
   ],
   "source": [
    "s2={44,77,88,55}\n",
    "s2"
   ]
  },
  {
   "cell_type": "code",
   "execution_count": null,
   "id": "ed5d4e5e",
   "metadata": {},
   "outputs": [
    {
     "data": {
      "text/plain": [
       "{'a', 'c', 'd', 'r'}"
      ]
     },
     "execution_count": 74,
     "metadata": {},
     "output_type": "execute_result"
    }
   ],
   "source": [
    "s={'a','d','r','c'}\n",
    "s"
   ]
  },
  {
   "cell_type": "code",
   "execution_count": null,
   "id": "98562e90",
   "metadata": {},
   "outputs": [
    {
     "name": "stdout",
     "output_type": "stream",
     "text": [
      "True\n",
      "True\n"
     ]
    }
   ],
   "source": [
    "s1={1,2,3,4,5,6,7,8}\n",
    "s2={5,6,7,8}\n",
    "print(s2.issubset(s1))\n",
    "print(s1.issuperset(s2))"
   ]
  },
  {
   "cell_type": "markdown",
   "id": "0d99ba08",
   "metadata": {},
   "source": [
    "# dict"
   ]
  },
  {
   "cell_type": "code",
   "execution_count": null,
   "id": "5df97300",
   "metadata": {},
   "outputs": [
    {
     "data": {
      "text/plain": [
       "{'a': 'apple', 'b': 'ball'}"
      ]
     },
     "execution_count": 1,
     "metadata": {},
     "output_type": "execute_result"
    }
   ],
   "source": [
    "my_dict={'a':'apple','b':'ball'}\n",
    "my_dict"
   ]
  },
  {
   "cell_type": "code",
   "execution_count": null,
   "id": "6142a206",
   "metadata": {},
   "outputs": [
    {
     "name": "stdout",
     "output_type": "stream",
     "text": [
      "{'name': 'cijo', 'country': 'india', 'tele': 12345}\n"
     ]
    }
   ],
   "source": [
    "person=dict({'name':'cijo','country':'india','tele':12345})\n",
    "print(person)\n"
   ]
  },
  {
   "cell_type": "code",
   "execution_count": null,
   "id": "5fa8d6d1",
   "metadata": {},
   "outputs": [
    {
     "name": "stdout",
     "output_type": "stream",
     "text": [
      "{'name': 'cijo', 'country': 'india', 'tele': 12345}\n"
     ]
    }
   ],
   "source": [
    "person=dict([('name','cijo'),('country','india'),('tele',12345)])\n",
    "print(person)"
   ]
  },
  {
   "cell_type": "code",
   "execution_count": null,
   "id": "c4bfa4c2",
   "metadata": {},
   "outputs": [
    {
     "data": {
      "text/plain": [
       "dict_keys(['a', 'b'])"
      ]
     },
     "execution_count": 9,
     "metadata": {},
     "output_type": "execute_result"
    }
   ],
   "source": [
    "my_dict.keys(\n",
    "    \n",
    ")"
   ]
  },
  {
   "cell_type": "code",
   "execution_count": null,
   "id": "b9b268ad",
   "metadata": {},
   "outputs": [
    {
     "data": {
      "text/plain": [
       "dict_values(['apple', 'ball'])"
      ]
     },
     "execution_count": 10,
     "metadata": {},
     "output_type": "execute_result"
    }
   ],
   "source": [
    "my_dict.values()"
   ]
  },
  {
   "cell_type": "code",
   "execution_count": null,
   "id": "39e8e927",
   "metadata": {},
   "outputs": [
    {
     "data": {
      "text/plain": [
       "dict_items([('a', 'apple'), ('b', 'ball')])"
      ]
     },
     "execution_count": 11,
     "metadata": {},
     "output_type": "execute_result"
    }
   ],
   "source": [
    "my_dict.items()"
   ]
  },
  {
   "cell_type": "code",
   "execution_count": null,
   "id": "655c039e",
   "metadata": {},
   "outputs": [
    {
     "data": {
      "text/plain": [
       "2"
      ]
     },
     "execution_count": 12,
     "metadata": {},
     "output_type": "execute_result"
    }
   ],
   "source": [
    "len(my_dict)"
   ]
  },
  {
   "cell_type": "code",
   "execution_count": null,
   "id": "bba35819",
   "metadata": {},
   "outputs": [
    {
     "name": "stdout",
     "output_type": "stream",
     "text": [
      "54 43 2 1 5 "
     ]
    }
   ],
   "source": [
    "l1=[54, 43, 2, 1, 5]\n",
    "for i in l1:\n",
    "    print(i,end=' ')\n"
   ]
  },
  {
   "cell_type": "code",
   "execution_count": null,
   "id": "2e6a6cf0",
   "metadata": {},
   "outputs": [
    {
     "name": "stdout",
     "output_type": "stream",
     "text": [
      "105\n"
     ]
    }
   ],
   "source": [
    "l1=[54, 43, 2, 1, 5]\n",
    "s=0\n",
    "for i in l1:\n",
    "    s+=i\n",
    "print(s)"
   ]
  },
  {
   "cell_type": "code",
   "execution_count": null,
   "id": "565bd012",
   "metadata": {},
   "outputs": [
    {
     "name": "stdout",
     "output_type": "stream",
     "text": [
      "[1, 2, 3]\n"
     ]
    }
   ],
   "source": [
    "a,b,c=1,2,3\n",
    "l1=[]\n",
    "l1.append(a)\n",
    "l1.append(b)\n",
    "l1.append(c)\n",
    "print(l1)"
   ]
  },
  {
   "cell_type": "code",
   "execution_count": null,
   "id": "278d3f18",
   "metadata": {},
   "outputs": [
    {
     "name": "stdout",
     "output_type": "stream",
     "text": [
      "average is  10.0\n"
     ]
    }
   ],
   "source": [
    "arr = [-12, 8, -7, 6, 12, -9, 14]\n",
    "s=0\n",
    "count=0\n",
    "for i in arr:\n",
    "    if i>0:\n",
    "        s+=i\n",
    "        count+=1    \n",
    "         \n",
    "print('average is ',s/count)    "
   ]
  },
  {
   "cell_type": "code",
   "execution_count": null,
   "id": "d6aa586c",
   "metadata": {},
   "outputs": [
    {
     "name": "stdout",
     "output_type": "stream",
     "text": [
      "not perfect\n"
     ]
    }
   ],
   "source": [
    "n=int(input('enter the number'))\n",
    "i=0\n",
    "s=0\n",
    "for i in range(1,n):\n",
    "    if n%i==0:\n",
    "        s+=i\n",
    "if s==n:\n",
    "    print('perfect')\n",
    "else:\n",
    "    print('not perfect')\n",
    "    \n",
    "\n"
   ]
  },
  {
   "cell_type": "code",
   "execution_count": null,
   "id": "b1d50ee1",
   "metadata": {},
   "outputs": [
    {
     "data": {
      "text/plain": [
       "dict"
      ]
     },
     "execution_count": 73,
     "metadata": {},
     "output_type": "execute_result"
    }
   ],
   "source": [
    "d={1:'value','key':2}\n",
    "type(d)\n"
   ]
  },
  {
   "cell_type": "code",
   "execution_count": null,
   "id": "bb6b90ee",
   "metadata": {},
   "outputs": [
    {
     "name": "stdout",
     "output_type": "stream",
     "text": [
      "value\n"
     ]
    }
   ],
   "source": [
    "print(d[1])"
   ]
  },
  {
   "cell_type": "code",
   "execution_count": null,
   "id": "44456887",
   "metadata": {},
   "outputs": [
    {
     "ename": "KeyError",
     "evalue": "2",
     "output_type": "error",
     "traceback": [
      "\u001b[31m---------------------------------------------------------------------------\u001b[39m",
      "\u001b[31mKeyError\u001b[39m                                  Traceback (most recent call last)",
      "\u001b[36mCell\u001b[39m\u001b[36m \u001b[39m\u001b[32mIn[75]\u001b[39m\u001b[32m, line 1\u001b[39m\n\u001b[32m----> \u001b[39m\u001b[32m1\u001b[39m \u001b[38;5;28mprint\u001b[39m(\u001b[43md\u001b[49m\u001b[43m[\u001b[49m\u001b[32;43m2\u001b[39;49m\u001b[43m]\u001b[49m)\n",
      "\u001b[31mKeyError\u001b[39m: 2"
     ]
    }
   ],
   "source": [
    "print(d[2])"
   ]
  },
  {
   "cell_type": "code",
   "execution_count": null,
   "id": "4c260272",
   "metadata": {},
   "outputs": [
    {
     "name": "stdout",
     "output_type": "stream",
     "text": [
      "cijo 15\n"
     ]
    }
   ],
   "source": [
    "d={'name':'cijo','age':15}\n",
    "print(d['name'],d['age'])"
   ]
  },
  {
   "cell_type": "code",
   "execution_count": null,
   "id": "8253d093",
   "metadata": {},
   "outputs": [
    {
     "name": "stdout",
     "output_type": "stream",
     "text": [
      "{'brand': 'nike', 'model': 'air', 'year': 2010}\n",
      "air\n"
     ]
    }
   ],
   "source": [
    "d={'brand':'nike','model':'air','year':2010}\n",
    "print(d)\n",
    "print(d['model'])"
   ]
  },
  {
   "cell_type": "code",
   "execution_count": null,
   "id": "fa61c68e",
   "metadata": {},
   "outputs": [
    {
     "data": {
      "text/plain": [
       "{'brand': 'nike', 'model': 'air', 'year': 2020}"
      ]
     },
     "execution_count": 80,
     "metadata": {},
     "output_type": "execute_result"
    }
   ],
   "source": [
    "d={'brand':'nike','model':'air','year':2010,'year':2020}\n",
    "d"
   ]
  },
  {
   "cell_type": "code",
   "execution_count": null,
   "id": "d95eb0d1",
   "metadata": {},
   "outputs": [
    {
     "data": {
      "text/plain": [
       "{'name': 'cijo', 'age': 15, 'course': 'data science', 'mark': 100}"
      ]
     },
     "execution_count": 81,
     "metadata": {},
     "output_type": "execute_result"
    }
   ],
   "source": [
    "d={'name':'cijo','age':15,'course':'data science','mark':100}\n",
    "d"
   ]
  },
  {
   "cell_type": "code",
   "execution_count": null,
   "id": "8ab03b54",
   "metadata": {},
   "outputs": [
    {
     "data": {
      "text/plain": [
       "'cijo'"
      ]
     },
     "execution_count": 82,
     "metadata": {},
     "output_type": "execute_result"
    }
   ],
   "source": [
    "d['name']"
   ]
  },
  {
   "cell_type": "code",
   "execution_count": null,
   "id": "7037a517",
   "metadata": {},
   "outputs": [
    {
     "name": "stdout",
     "output_type": "stream",
     "text": [
      "cijo\n",
      "15\n",
      "data science\n",
      "100\n"
     ]
    }
   ],
   "source": [
    "print(d['name'])\n",
    "print(d['age'])\n",
    "print(d['course'])\n",
    "print(d['mark'])"
   ]
  },
  {
   "cell_type": "code",
   "execution_count": null,
   "id": "cb8db6d4",
   "metadata": {},
   "outputs": [
    {
     "data": {
      "text/plain": [
       "{'name': 'cijo',\n",
       " 'age': 15,\n",
       " 'course': 'data science',\n",
       " 'mark': 100,\n",
       " 'city': 'kochi'}"
      ]
     },
     "execution_count": 86,
     "metadata": {},
     "output_type": "execute_result"
    }
   ],
   "source": [
    "# to insert new key value pair\n",
    "d['city']='kochi'\n",
    "d"
   ]
  },
  {
   "cell_type": "code",
   "execution_count": null,
   "id": "8645022e",
   "metadata": {},
   "outputs": [
    {
     "data": {
      "text/plain": [
       "{'name': 'cijo',\n",
       " 'age': 16,\n",
       " 'course': 'data science',\n",
       " 'mark': 100,\n",
       " 'city': 'kochi'}"
      ]
     },
     "execution_count": 88,
     "metadata": {},
     "output_type": "execute_result"
    }
   ],
   "source": [
    "#update\n",
    "d['age']=16\n",
    "d"
   ]
  },
  {
   "cell_type": "code",
   "execution_count": null,
   "id": "20a257df",
   "metadata": {},
   "outputs": [
    {
     "data": {
      "text/plain": [
       "{'name': 'cijo', 'age': 16, 'mark': 100, 'city': 'kochi'}"
      ]
     },
     "execution_count": 89,
     "metadata": {},
     "output_type": "execute_result"
    }
   ],
   "source": [
    "del d['course']\n",
    "d"
   ]
  },
  {
   "cell_type": "code",
   "execution_count": null,
   "id": "1a5c3bc0",
   "metadata": {},
   "outputs": [
    {
     "name": "stdout",
     "output_type": "stream",
     "text": [
      "name:cijo\n",
      "age:16\n",
      "mark:100\n",
      "city:kochi\n"
     ]
    }
   ],
   "source": [
    "#loop\n",
    "for key,value in d.items():\n",
    "    print(f'{key}:{value}')"
   ]
  },
  {
   "cell_type": "code",
   "execution_count": null,
   "id": "1eb37764",
   "metadata": {},
   "outputs": [
    {
     "name": "stdout",
     "output_type": "stream",
     "text": [
      "cijo\n",
      "100000\n",
      "HOD\n",
      "kochi\n"
     ]
    }
   ],
   "source": [
    "emp={'name':'cijo','salary':100000,'dept':'HOD','city':'kochi'}\n",
    "emp\n",
    "print(emp['name'])\n",
    "print(emp['salary'])\n",
    "print(emp['dept'])\n",
    "print(emp['city'])"
   ]
  },
  {
   "cell_type": "code",
   "execution_count": null,
   "id": "54009967",
   "metadata": {},
   "outputs": [
    {
     "data": {
      "text/plain": [
       "{'name': 'cijo',\n",
       " 'salary': 100000,\n",
       " 'dept': 'HOD',\n",
       " 'city': 'kochi',\n",
       " 'age': 25,\n",
       " 'id': 916}"
      ]
     },
     "execution_count": 106,
     "metadata": {},
     "output_type": "execute_result"
    }
   ],
   "source": [
    "emp['age']=25\n",
    "emp['id']=916\n",
    "emp"
   ]
  },
  {
   "cell_type": "code",
   "execution_count": null,
   "id": "847667c5",
   "metadata": {},
   "outputs": [
    {
     "data": {
      "text/plain": [
       "{'name': 'cijo', 'salary': 100000, 'city': 'kochi', 'id': 916}"
      ]
     },
     "execution_count": 107,
     "metadata": {},
     "output_type": "execute_result"
    }
   ],
   "source": [
    "del emp['dept']\n",
    "del emp['age']\n",
    "emp"
   ]
  },
  {
   "cell_type": "code",
   "execution_count": null,
   "id": "983c42d3",
   "metadata": {},
   "outputs": [
    {
     "name": "stdout",
     "output_type": "stream",
     "text": [
      "name:cijo\n",
      "salary:100000\n",
      "dept:HOD\n",
      "city:kochi\n"
     ]
    }
   ],
   "source": [
    "for i,j in emp.items():\n",
    "\n",
    "     print(f'{i}:{j}')\n",
    "   "
   ]
  },
  {
   "cell_type": "code",
   "execution_count": 264,
   "id": "69c495cf",
   "metadata": {},
   "outputs": [
    {
     "name": "stdout",
     "output_type": "stream",
     "text": [
      "{'apple': {'price': 100, 'stock': 10}, 'banana': {'price': 50, 'stock': 50}, 'mango': {'price': 150, 'stock': 40}}\n"
     ]
    }
   ],
   "source": [
    "p={'apple':{'price':100,'stock':10},\n",
    "   'banana':{'price':50,'stock':50},\n",
    "   'mango':{'price':150,'stock':40}}\n",
    "print(p)"
   ]
  },
  {
   "cell_type": "code",
   "execution_count": 265,
   "id": "b7e774e1",
   "metadata": {},
   "outputs": [
    {
     "data": {
      "text/plain": [
       "{'apple': {'price': 100, 'stock': 10},\n",
       " 'banana': {'price': 50, 'stock': 50},\n",
       " 'mango': {'price': 150, 'stock': 40},\n",
       " 'grapes': {'price': 200, 'stock': 30}}"
      ]
     },
     "execution_count": 265,
     "metadata": {},
     "output_type": "execute_result"
    }
   ],
   "source": [
    "p['grapes']={'price':200,'stock':30}\n",
    "p"
   ]
  },
  {
   "cell_type": "code",
   "execution_count": 266,
   "id": "7ff86b41",
   "metadata": {},
   "outputs": [
    {
     "data": {
      "text/plain": [
       "{'apple': {'price': 100, 'stock': 10},\n",
       " 'banana': {'price': 50, 'stock': 75},\n",
       " 'mango': {'price': 150, 'stock': 40},\n",
       " 'grapes': {'price': 200, 'stock': 30}}"
      ]
     },
     "execution_count": 266,
     "metadata": {},
     "output_type": "execute_result"
    }
   ],
   "source": [
    "p['banana']['stock']+=25\n",
    "p"
   ]
  },
  {
   "cell_type": "code",
   "execution_count": null,
   "id": "acb8c2ff",
   "metadata": {},
   "outputs": [],
   "source": []
  },
  {
   "cell_type": "code",
   "execution_count": 268,
   "id": "a24ee146",
   "metadata": {},
   "outputs": [
    {
     "data": {
      "text/plain": [
       "{'apple': {'price': 100, 'stock': 10},\n",
       " 'banana': {'price': 50, 'stock': 75},\n",
       " 'grapes': {'price': 200, 'stock': 30}}"
      ]
     },
     "execution_count": 268,
     "metadata": {},
     "output_type": "execute_result"
    }
   ],
   "source": [
    "p.pop('mango')\n",
    "p"
   ]
  },
  {
   "cell_type": "code",
   "execution_count": null,
   "id": "55a72945",
   "metadata": {},
   "outputs": [],
   "source": []
  }
 ],
 "metadata": {
  "kernelspec": {
   "display_name": "Python 3",
   "language": "python",
   "name": "python3"
  },
  "language_info": {
   "codemirror_mode": {
    "name": "ipython",
    "version": 3
   },
   "file_extension": ".py",
   "mimetype": "text/x-python",
   "name": "python",
   "nbconvert_exporter": "python",
   "pygments_lexer": "ipython3",
   "version": "3.11.9"
  }
 },
 "nbformat": 4,
 "nbformat_minor": 5
}
