{
 "cells": [
  {
   "cell_type": "code",
   "execution_count": 2,
   "id": "ff5f9761",
   "metadata": {},
   "outputs": [
    {
     "data": {
      "text/plain": [
       "5"
      ]
     },
     "execution_count": 2,
     "metadata": {},
     "output_type": "execute_result"
    }
   ],
   "source": [
    "def ad(a,b):\n",
    "    result=a+b\n",
    "    return result\n",
    "ad(2,3)\n"
   ]
  },
  {
   "cell_type": "code",
   "execution_count": 3,
   "id": "aefe0184",
   "metadata": {},
   "outputs": [
    {
     "data": {
      "text/plain": [
       "'smaller'"
      ]
     },
     "execution_count": 3,
     "metadata": {},
     "output_type": "execute_result"
    }
   ],
   "source": [
    "def large(a):\n",
    "    if a>0:\n",
    "        s='larger'\n",
    "    else:\n",
    "        s='smaller'\n",
    "    return s\n",
    "a=int(input('enter a number'))\n",
    "large(a)\n",
    "\n",
    "    "
   ]
  },
  {
   "cell_type": "code",
   "execution_count": 6,
   "id": "f553e61a",
   "metadata": {},
   "outputs": [
    {
     "name": "stdout",
     "output_type": "stream",
     "text": [
      "28\n"
     ]
    }
   ],
   "source": [
    "def ad(*arg):\n",
    "    s=0\n",
    "    for i in arg:\n",
    "        s+=i\n",
    "    print(s)\n",
    "ad(1,2,3,4,5,6,7)"
   ]
  },
  {
   "cell_type": "code",
   "execution_count": 3,
   "id": "0cf72e4e",
   "metadata": {},
   "outputs": [
    {
     "data": {
      "text/plain": [
       "120"
      ]
     },
     "execution_count": 3,
     "metadata": {},
     "output_type": "execute_result"
    }
   ],
   "source": [
    "def facto(n):\n",
    "    if n==1:\n",
    "        return 1\n",
    "    else:\n",
    "        fact=n*facto(n-1)\n",
    "    return fact \n",
    "n=int(input('enter a number'))\n",
    "facto(n)"
   ]
  },
  {
   "cell_type": "code",
   "execution_count": null,
   "id": "195e958f",
   "metadata": {},
   "outputs": [],
   "source": [
    "def ad(a,b):\n",
    "    result=a+b\n",
    "    return result\n",
    "ad(2,3) "
   ]
  },
  {
   "cell_type": "code",
   "execution_count": null,
   "id": "de97fac2",
   "metadata": {},
   "outputs": [
    {
     "data": {
      "text/plain": [
       "6"
      ]
     },
     "execution_count": 5,
     "metadata": {},
     "output_type": "execute_result"
    }
   ],
   "source": [
    " t=lambda a,b:a+b\n",
    "t(4,2)"
   ]
  },
  {
   "cell_type": "code",
   "execution_count": 7,
   "id": "3ef8087d",
   "metadata": {},
   "outputs": [
    {
     "name": "stdout",
     "output_type": "stream",
     "text": [
      "['APPLE', 'BANANA', 'CHERRY']\n"
     ]
    }
   ],
   "source": [
    "def to_upper(s):\n",
    "    return s.upper()\n",
    "words=['apple','banana','cherry']\n",
    "uppercased=list(map(to_upper,words))\n",
    "print(uppercased)"
   ]
  },
  {
   "cell_type": "code",
   "execution_count": 9,
   "id": "e3572309",
   "metadata": {},
   "outputs": [
    {
     "name": "stdout",
     "output_type": "stream",
     "text": [
      "[2, 4, 6, 8]\n"
     ]
    }
   ],
   "source": [
    "def even(n):\n",
    "    return n%2==0\n",
    "num=[1,2,3,4,5,6,7,8]\n",
    "toeven=list(filter(even,num))\n",
    "print(toeven)"
   ]
  },
  {
   "cell_type": "code",
   "execution_count": 11,
   "id": "f71c4f40",
   "metadata": {},
   "outputs": [
    {
     "name": "stdout",
     "output_type": "stream",
     "text": [
      "[1, 4, 9, 16]\n"
     ]
    }
   ],
   "source": [
    "t=lambda n:n**2\n",
    "num=[1,2,3,4]\n",
    "sq=list(map(t,num))\n",
    "print(sq)"
   ]
  },
  {
   "cell_type": "code",
   "execution_count": 12,
   "id": "c57fed55",
   "metadata": {},
   "outputs": [],
   "source": [
    "num=[1,2,3,4]\n",
    "sq=list(map(lambda n:n**2,num))"
   ]
  },
  {
   "cell_type": "code",
   "execution_count": 13,
   "id": "c948986f",
   "metadata": {},
   "outputs": [
    {
     "data": {
      "text/plain": [
       "[1, 4, 9, 16]"
      ]
     },
     "execution_count": 13,
     "metadata": {},
     "output_type": "execute_result"
    }
   ],
   "source": [
    "sq"
   ]
  },
  {
   "cell_type": "code",
   "execution_count": 16,
   "id": "cb44d597",
   "metadata": {},
   "outputs": [
    {
     "data": {
      "text/plain": [
       "[2, 4, 6]"
      ]
     },
     "execution_count": 16,
     "metadata": {},
     "output_type": "execute_result"
    }
   ],
   "source": [
    "num=[1,2,3,4,5,6]\n",
    "even=list(filter(lambda n:(n%2==0),num))\n",
    "even"
   ]
  },
  {
   "cell_type": "code",
   "execution_count": null,
   "id": "abf338a3",
   "metadata": {},
   "outputs": [],
   "source": []
  }
 ],
 "metadata": {
  "kernelspec": {
   "display_name": "Python 3",
   "language": "python",
   "name": "python3"
  },
  "language_info": {
   "codemirror_mode": {
    "name": "ipython",
    "version": 3
   },
   "file_extension": ".py",
   "mimetype": "text/x-python",
   "name": "python",
   "nbconvert_exporter": "python",
   "pygments_lexer": "ipython3",
   "version": "3.11.9"
  }
 },
 "nbformat": 4,
 "nbformat_minor": 5
}
