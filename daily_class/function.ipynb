{
 "cells": [
  {
   "cell_type": "code",
   "execution_count": 2,
   "id": "ff5f9761",
   "metadata": {},
   "outputs": [
    {
     "data": {
      "text/plain": [
       "5"
      ]
     },
     "execution_count": 2,
     "metadata": {},
     "output_type": "execute_result"
    }
   ],
   "source": [
    "def ad(a,b):\n",
    "    result=a+b\n",
    "    return result\n",
    "ad(2,3)\n"
   ]
  },
  {
   "cell_type": "code",
   "execution_count": 3,
   "id": "aefe0184",
   "metadata": {},
   "outputs": [
    {
     "data": {
      "text/plain": [
       "'smaller'"
      ]
     },
     "execution_count": 3,
     "metadata": {},
     "output_type": "execute_result"
    }
   ],
   "source": [
    "def large(a):\n",
    "    if a>0:\n",
    "        s='larger'\n",
    "    else:\n",
    "        s='smaller'\n",
    "    return s\n",
    "a=int(input('enter a number'))\n",
    "large(a)\n",
    "\n",
    "    "
   ]
  },
  {
   "cell_type": "code",
   "execution_count": 6,
   "id": "f553e61a",
   "metadata": {},
   "outputs": [
    {
     "name": "stdout",
     "output_type": "stream",
     "text": [
      "28\n"
     ]
    }
   ],
   "source": [
    "def ad(*arg):\n",
    "    s=0\n",
    "    for i in arg:\n",
    "        s+=i\n",
    "    print(s)\n",
    "ad(1,2,3,4,5,6,7)"
   ]
  },
  {
   "cell_type": "code",
   "execution_count": null,
   "id": "1c10099f",
   "metadata": {},
   "outputs": [],
   "source": []
  }
 ],
 "metadata": {
  "kernelspec": {
   "display_name": "Python 3",
   "language": "python",
   "name": "python3"
  },
  "language_info": {
   "codemirror_mode": {
    "name": "ipython",
    "version": 3
   },
   "file_extension": ".py",
   "mimetype": "text/x-python",
   "name": "python",
   "nbconvert_exporter": "python",
   "pygments_lexer": "ipython3",
   "version": "3.11.9"
  }
 },
 "nbformat": 4,
 "nbformat_minor": 5
}
